{
  "cells": [
    {
      "cell_type": "markdown",
      "metadata": {
        "id": "m2s4kN_QPQVe"
      },
      "source": [
        "# Введение в обучение с подкреплением  (Reinforcement Learning)\n",
        "\n",
        "\n",
        "<center>\n",
        "<img src=\"https://raw.githubusercontent.com/jcformanek/jcformanek.github.io/master/docs/assets/images/rl_in_space.png\" width=\"100%\" />\n",
        "</center>\n",
        "\n",
        "\n",
        "\n",
        "**Введение**\n",
        "\n",
        "На этом семинаре мы изучим обучение с подкреплением - тип машинного обучения без учителя, где агент учится выбирать действия, которые приводят к максимальному вознаграждению в долгосрочной перспективе. Обучение с подкреплением используется в широком спектре сложных задач, в том числе - в видеоиграх, например, [Atari](https://www.deepmind.com/blog/agent57-outperforming-the-human-atari-benchmark), [StarCraft II](https://www.deepmind.com/blog/alphastar-mastering-the-real-time-strategy-game-starcraft-ii) и [Dota II](https://openai.com/five/).\n",
        "\n",
        "На семинаре изучим классическую среду - [CartPole](https://www.gymlibrary.ml/environments/classic_control/cart_pole/), где агент должен научиться балансировать шестом на тележке (см лекцию), используя несколько различных подходов RL. По пути вы познакомитесь с некоторыми из самых важных концепций и терминологии в RL.\n",
        "\n",
        "**Темы:**\n",
        "* Reinforcement Learning (RL, Обучение с подкреплением)\n",
        "* Random Policy Search (Случайный поиск политики)\n",
        "* Policy Gradient (Градиент политики)\n",
        "* Q-Learning\n",
        "\n",
        "\n",
        "**Что надо сделать для лучшего понимания:**\n",
        "\n",
        "* почитать про библиотеку [JAX](https://github.com/google/jax).\n",
        "* вспомнить нейроки.\n",
        "\n"
      ]
    },
    {
      "cell_type": "markdown",
      "metadata": {
        "id": "6EqhIg1odqg0"
      },
      "source": [
        "### Настраиваем среду"
      ]
    },
    {
      "cell_type": "code",
      "execution_count": 1,
      "metadata": {
        "id": "4boGA9rYdt9l"
      },
      "outputs": [],
      "source": [
        "# @title Установка необходимых пакетов (надо просто запустить!) { display-mode: \"form\" }\n",
        "# @markdown Может занять несколько минут\n",
        "%%capture\n",
        "!pip install jaxlib\n",
        "!pip install jax\n",
        "!pip install git+https://github.com/deepmind/dm-haiku\n",
        "!pip install gym==0.25\n",
        "!pip install gym[box2d]\n",
        "!pip install optax\n",
        "!pip install matplotlib\n",
        "!pip install chex\n",
        "!pip install gym[classic_control]"
      ]
    },
    {
      "cell_type": "code",
      "execution_count": 2,
      "metadata": {
        "id": "gwbqggmcRjMy"
      },
      "outputs": [],
      "source": [
        "# @title Импорт необходимых пакетов (просто запустите ячейку) { display-mode: \"form\" }\n",
        "%%capture\n",
        "import copy\n",
        "from shutil import rmtree # deleting directories\n",
        "import random\n",
        "import collections # useful data structures\n",
        "import numpy as np\n",
        "import gym # reinforcement learning environments\n",
        "from gym.wrappers import RecordVideo\n",
        "import jax\n",
        "import jax.numpy as jnp # jax numpy\n",
        "import haiku as hk # jax neural network library\n",
        "import optax # jax optimizer library\n",
        "import matplotlib.pyplot as plt # graph plotting library\n",
        "from IPython.display import HTML\n",
        "from base64 import b64encode\n",
        "import chex\n",
        "\n",
        "# Hide warnings\n",
        "import warnings\n",
        "warnings.filterwarnings('ignore')"
      ]
    },
    {
      "cell_type": "markdown",
      "metadata": {
        "id": "-ZUp8i37dFbU"
      },
      "source": [
        "## 1. Ключевые концепции обучения с подкреплением\n",
        "\n",
        "Обучение с подкреплением (RL) является подразделом машинного обучения (ML). В отличие от таких областей, как контролируемое обучение, где мы даем примеры ожидаемого поведения нашим моделям, RL фокусируется на *целеориентированном* обучении из взаимодействий методом проб и ошибок. Алгоритмы RL изучают, что делать (т. е. какие оптимальные действия предпринять) в среде, чтобы максимизировать некий сигнал вознаграждения. В таких условиях, как видеоигра, сигналом вознаграждения может быть счет игры, т. е. алгоритмы RL будут пытаться максимизировать счет в игре, выбирая лучшие действия.\n",
        "\n",
        "<center>\n",
        "<img src=\"https://pettingzoo.farama.org/_images/environments-demo.gif\" width=\"40%\" />\n",
        "</center>\n",
        "\n",
        "[*Image Source*](https://pettingzoo.farama.org/)\n",
        "\n",
        "Другими словами, в RL у нас есть **агент**, который воспринимает **наблюдение** $o_t$ текущего состояния $s_t$ **окружающей среды** и должен выбрать **действие** $a_t$ для выполнения.\n",
        "\n",
        "Затем окружающая среда переходит в новое состояние $s_{t+1}$ в ответ на действие агента, а также дает агенту скалярное вознаграждение $r_t$, чтобы указать, насколько хорошим или плохим было выбранное действие, учитывая состояние окружающей среды.\n",
        "\n",
        "Целью в RL является максимизация агентом суммы вознаграждения, которое он получает от окружающей среды с течением времени. Нижний индекс $t$ используется для указания номера временного шага, т. е. $s_0$ - это состояние окружающей среды на начальном временном шаге, а $a_{99}$ - это действие агента на $99-м$ временном шаге."
      ]
    },
    {
      "cell_type": "markdown",
      "metadata": {
        "id": "Ghgy69hFRjMz"
      },
      "source": [
        "### Среда - OpenAI Gym\n",
        "Как упоминалось выше, среда получает от агента действие $a_t$ и возвращает вознаграждение $r_t$ и наблюдение $o_t$.\n",
        "\n",
        "OpenAI разработал пакет для Python под названием **Gym**, который включает реализации популярных сред и простой интерфейс для взаимодействия агента RL. Чтобы использовать поддерживаемую [среду gym](https://www.gymlibrary.ml/), все, что вам нужно сделать, это передать имя среды в функцию  `gym.make(<environment_name>)`.\n",
        "\n",
        "В этом уроке мы будем использовать простую среду под названием **CartPole**. В CartPole задача агента — научиться балансировать на шесте как можно дольше, перемещая тележку *влево* или *вправо*.\n",
        "\n",
        "<img src=\"https://user-images.githubusercontent.com/10854026/32486103-f15f19de-c3a5-11e7-81de-0605df939497.gif\" width=\"50%\" />"
      ]
    },
    {
      "cell_type": "code",
      "execution_count": 3,
      "metadata": {
        "id": "WfxzajMYRjMz"
      },
      "outputs": [],
      "source": [
        "# Create the environment\n",
        "env_name = \"CartPole-v0\"\n",
        "env = gym.make(env_name)"
      ]
    },
    {
      "cell_type": "markdown",
      "metadata": {
        "id": "y_BbftaJj3zu"
      },
      "source": [
        "### Состояние (States) и Наблюдение (Observations) - $s_t$ and $o_t$\n",
        "\n",
        "В RL агент воспринимает наблюдение за состоянием среды. В некоторых настройках наблюдение может включать всю информацию, лежащую в основе состояния среды. Такая среда называется **полностью наблюдаемой**. В других настройках агент может получать только частичную информацию о состоянии среды в своем наблюдении. Такая среда называется **частично наблюдаемой**.\n",
        "\n",
        "В оставшейся части этого руководства мы будем предполагать, что среда полностью наблюдаема, и поэтому будем использовать состояние $s_t$ и наблюдение $o_t$ взаимозаменяемо. В Gym мы получаем начальное наблюдение из среды, вызывая функцию `env.reset()`."
      ]
    },
    {
      "cell_type": "code",
      "execution_count": 4,
      "metadata": {
        "id": "HdS8nqOgRjM0",
        "colab": {
          "base_uri": "https://localhost:8080/"
        },
        "outputId": "7241c4c0-3c5b-4d0f-800f-1956beaafd85"
      },
      "outputs": [
        {
          "output_type": "stream",
          "name": "stdout",
          "text": [
            "Initial State:: [ 0.01657101  0.01622771 -0.03758765  0.00926788]\n",
            "Environment Obs Space Shape: (4,)\n"
          ]
        }
      ],
      "source": [
        "# Reset the environment\n",
        "s_0 = env.reset()\n",
        "print(\"Initial State::\", s_0)\n",
        "\n",
        "# Get environment obs space\n",
        "obs_shape = env.observation_space.shape\n",
        "print(\"Environment Obs Space Shape:\", obs_shape)"
      ]
    },
    {
      "cell_type": "markdown",
      "metadata": {
        "id": "pUNX6mbotABo"
      },
      "source": [
        "В CartPole состояние окружающей среды представлено четырьмя числами: *угловое положение полюса, угловая скорость полюса, положение тележки, скорость тележки*."
      ]
    },
    {
      "cell_type": "markdown",
      "metadata": {
        "id": "hL1Nkgy7nUfn"
      },
      "source": [
        "### Действия (Actions) - $a_t$\n",
        "\n",
        "В RL действия обычно либо **дискретные**, либо **непрерывные**. Непрерывные действия задаются вектором действительных чисел. Дискретные действия задаются целочисленным значением. В средах, где мы можем подсчитать конечный набор действий, мы обычно используем дискретные действия.\n",
        "\n",
        "В CartPole есть только два действия: *влево* и *вправо*. Таким образом, действия могут быть представлены целыми числами $0$ и $1$. В gym мы можем легко получить список возможных действий следующим образом:"
      ]
    },
    {
      "cell_type": "code",
      "execution_count": 5,
      "metadata": {
        "id": "uOLZqU_LpIXh",
        "colab": {
          "base_uri": "https://localhost:8080/"
        },
        "outputId": "46c893b8-20b4-4fc3-9949-ad2e07c4dcb6"
      },
      "outputs": [
        {
          "output_type": "stream",
          "name": "stdout",
          "text": [
            "Environment action space: Discrete(2)\n",
            "Number of actions: 2\n"
          ]
        }
      ],
      "source": [
        "# Get action space - e.g. discrete or continuous\n",
        "print(f\"Environment action space: {env.action_space}\")\n",
        "\n",
        "# Get num actions\n",
        "num_actions = env.action_space.n\n",
        "print(f\"Number of actions: {num_actions}\")"
      ]
    },
    {
      "cell_type": "markdown",
      "metadata": {
        "id": "tRsflxbDpoPm"
      },
      "source": [
        "### Политика агента (The Agent's Policy) - $\\pi$\n",
        "\n",
        "В RL агент выбирает действия на основе полученных наблюдений. Мы можем представить процесс выбора действия агента как функцию, которая принимает наблюдение в качестве входных данных и возвращает действие в качестве выходных данных. В RL мы обычно называем эту функцию **политикой** агента и обозначаем ее $\\pi(s_t)=a_t$. В RL мы обычно параметризуем нашу политику каким-либо образом, а затем пытаемся узнать оптимальные параметры. Параметризованная политика обычно обозначается $\\pi_\\theta$, где $\\theta$ — это набор параметров.\n",
        "\n",
        "**Упражнение 1:** В качестве упражнения давайте реализуем простую политику, которая принимает набор параметров и наблюдение в качестве входных данных и возвращает действие. Предположим, что наблюдение — это вектор из четырех чисел, как наблюдение CartPole, и что действие должно быть либо $0$, либо $1$. Предположим также, что параметры — это вектор из четырех действительных чисел. Тогда действие должно быть вычислено следующим образом.\n",
        "\n",
        "\n",
        "1. Вычислите [скалярное произведение векторов](https://www.mathsisfun.com/algebra/vectors-dot-product.html) между наблюдением и параметрами.\n",
        "2. Если результат больше нуля, верните действие $1$.\n",
        "3. В противном случае верните действие $0$.\n",
        "\n",
        "В этом упражнении мы постараемся использовать JAX как можно чаще. Поэтому постарайтесь использовать методы JAX для этой задачи. Ниже приведены некоторые полезные методы, которые вы можете использовать. Вам нужно будет завершить код в блоке ниже, заменив `...` правильным кодом.\n",
        "\n",
        "\n",
        "**Полезные методы:**\n",
        "* Вычислите скалярное произведение векторов с помощью `jax.numpy.dot` ([docs](https://jax.readthedocs.io/en/latest/_autosummary/jax.numpy.dot.html)).\n",
        "\n",
        "* Когда вы пытаетесь условно присвоить значение $0$ или $1$ действию на основе результата скалярного произведения, вам следует использовать `jax.lax.select` ([docs](https://jax.readthedocs.io/en/latest/_autosummary/jax.lax.select.html#jax.lax.select)).\n",
        "\n",
        "Метод `jax.lax.select` принимает три аргумента в качестве входных данных. Первый аргумент — это оператор, который будет оцениваться как `True` или `False`.\n",
        "\n",
        "Если оператор равен `True`, то `jax.lax.select` вернет свой второй аргумент.\n",
        "\n",
        "Если оператор имеет значение `False`, `jax.lax.select` вернет свой третий аргумент.\n",
        "\n"
      ]
    },
    {
      "cell_type": "code",
      "execution_count": 6,
      "metadata": {
        "id": "KSGCd7XB1z8k"
      },
      "outputs": [],
      "source": [
        "def linear_policy(params, obs):\n",
        "  \"\"\"A simple linear policy\n",
        "\n",
        "  Args:\n",
        "    params: a vector of four real-numbers that give the parameters of the policy\n",
        "    obs: a vector of four real-numbers that give the agent's observation\n",
        "\n",
        "  Returns:\n",
        "    a discrete action given by a 0 or 1\n",
        "  \"\"\"\n",
        "  # YOUR CODE\n",
        "  dot_product_result = jax.numpy.dot(params,obs)\n",
        "\n",
        "  action = jax.lax.select(\n",
        "      dot_product_result>0, # boolean statement goes here\n",
        "      1, # result when the statement is True goes here\n",
        "      0, # result when the statement is False goes here\n",
        "  )\n",
        "  # END YOUR CODE\n",
        "  return action"
      ]
    },
    {
      "cell_type": "code",
      "execution_count": 7,
      "metadata": {
        "id": "9EnnBvceb1f3",
        "colab": {
          "base_uri": "https://localhost:8080/"
        },
        "outputId": "d23298c9-9ed6-4c1f-8589-dc9c295d2a3e"
      },
      "outputs": [
        {
          "output_type": "stream",
          "name": "stdout",
          "text": [
            "Your function is correct!\n"
          ]
        }
      ],
      "source": [
        "# @title Проверка упр 1  { display-mode: \"form\" }\n",
        "\n",
        "def check_linear_policy(linear_policy):\n",
        "  fixed_obs = jnp.array([1,1,2,4])\n",
        "\n",
        "  # check case1 - negative dot product.\n",
        "  # weights\n",
        "  params1 = jnp.array([1,1,1,1])\n",
        "  params2 = jnp.array([-1,-1,-1,-1])\n",
        "\n",
        "  hint1 = f\"Неправильный ответ, ваша линейная политика неверна. Действие при \\\n",
        "obs={fixed_obs} и params={params1} должно быть 1\"\n",
        "\n",
        "  hint2 = f\"Неправильный ответ, ваша линейная политика неверна. Действие при \\\n",
        "obs={fixed_obs} и params={params2} должно быть 0\"\n",
        "\n",
        "  hint = None\n",
        "  if linear_policy(params1, fixed_obs) != 1:\n",
        "    hint = hint1\n",
        "  elif linear_policy(params2, fixed_obs) != 0:\n",
        "    hint = hint2\n",
        "\n",
        "  if hint is not None:\n",
        "    print(hint)\n",
        "  else:\n",
        "    print(\"Your function is correct!\")\n",
        "\n",
        "try:\n",
        "  check_linear_policy(linear_policy)\n",
        "except Exception as e:\n",
        "    print(\"An Error Occured: {}\".format(e))"
      ]
    },
    {
      "cell_type": "markdown",
      "metadata": {
        "id": "PkuvT-jf6Ieh"
      },
      "source": [
        "### Функция перехода среды - $P$\n",
        "\n",
        "Теперь, когда у нас есть политика, мы можем передавать действия от агента среде. Затем среда перейдет в новое состояние в ответ на действие агента.\n",
        "\n",
        "В RL мы моделируем этот процесс с помощью **функции перехода состояния** $P$, которая принимает текущее состояние $s_t$ и действие $a_t$ в качестве входных данных и возвращает следующее состояние $s_{t+1}$ в качестве выходных данных:\n",
        "\n",
        "<center>\n",
        "$s_{t+1}=P(s_t, a_t)$\n",
        "</center>\n",
        "\n",
        "В gym мы можем передавать действия среде, вызывая функцию `env.step(<action>)`. Затем функция вернет четыре значения:\n",
        "- **следующее наблюдение**\n",
        "- **награду** за выполненное действие\n",
        "- логический флаг, указывающий, **завершена** игра\n",
        "- некоторую **дополнительную** информацию."
      ]
    },
    {
      "cell_type": "code",
      "execution_count": 8,
      "metadata": {
        "id": "hh0j9-Tk7olb",
        "colab": {
          "base_uri": "https://localhost:8080/"
        },
        "outputId": "20e34c7e-bebb-4f36-9243-ba39feaa526a"
      },
      "outputs": [
        {
          "output_type": "stream",
          "name": "stdout",
          "text": [
            "Observation: [0.02685055 0.00110661 0.02494962 0.04897626]\n",
            "Action: 0\n",
            "Next observation: [ 0.02687268 -0.19436406  0.02592915  0.3494254 ]\n",
            "Reward: 1.0\n",
            "Game is done: False\n"
          ]
        }
      ],
      "source": [
        "# Get the initial obs by resetting the env\n",
        "initial_obs = env.reset()\n",
        "\n",
        "# Randomly sample actions from env\n",
        "action = env.action_space.sample()\n",
        "\n",
        "# Step the environment\n",
        "next_obs, reward, done, info = env.step(action)\n",
        "\n",
        "print(\"Observation:\", initial_obs)\n",
        "print(\"Action:\", action)\n",
        "print(\"Next observation:\", next_obs)\n",
        "print(\"Reward:\", reward)\n",
        "print(\"Game is done:\", done)"
      ]
    },
    {
      "cell_type": "markdown",
      "metadata": {
        "id": "bX9iZtu48UYn"
      },
      "source": [
        "### Возврат эпизода - $R_t$\n",
        "\n",
        "В RL мы обычно разбиваем взаимодействие агента с окружающей средой на **эпизоды**. Сумма всех вознаграждений, собранных во время эпизода, - это то, что мы называем **возвратом** эпизода - $R_t$:\n",
        "\n",
        "<center>\n",
        "$R_t=\\sum_{t=0}^Tr_t$,\n",
        "</center>\n",
        "\n",
        "где $r_t$ - это вознаграждение в момент времени $t$, а $T$ - это последний временной шаг. Цель в RL - выбрать действия, которые максимизируют этот ожидаемый будущий возврат $R_t$."
      ]
    },
    {
      "cell_type": "markdown",
      "metadata": {
        "id": "y6KZA1Nq9p47"
      },
      "source": [
        "### Цикл агент-среда\n",
        "Теперь, когда мы знаем, что такое политика, и знаем, как пошагово проходить среду, давайте закроем цикл агент-среда.\n",
        "\n",
        "**Упражнение 2:** Напишите функцию, которая запускает один эпизод CartPole, последовательно выбирая действия и пошагово проходя среду. Вам следует использовать линейную политику, которую мы определили ранее, для выбора действий. Функция должна отслеживать полученное вознаграждение и выводить возврат в конце эпизода.\n",
        "\n",
        "В CartPole агент получает вознаграждение `1` за каждый временной шаг, когда шест все еще стоит вертикально. Если шест падает, игра заканчивается, и агент больше не получает вознаграждения. Игра также заканчивается после `200` временных шагов, поэтому максимальное вознаграждение, которое может получить агент, составляет `200`."
      ]
    },
    {
      "cell_type": "code",
      "execution_count": 9,
      "metadata": {
        "id": "Buy0X7mi-gHP"
      },
      "outputs": [],
      "source": [
        "def run_episode(env):\n",
        "  episode_return = 0 # counter to keep track of rewards\n",
        "  done = False # initially set to False\n",
        "  params = jnp.array([1,-2,2,-1]) # fixed policy parameters\n",
        "\n",
        "  ## YOUR CODE\n",
        "\n",
        "  obs = initial_obs = env.reset() # TODO: get the initial obs from the env\n",
        "\n",
        "  while not done: # loop until episode is done\n",
        "\n",
        "    action = linear_policy(params, obs) # TODO: compute action using linear policy\n",
        "    action = np.array(action) # We need to the convert the action from the policy to a np.array\n",
        "\n",
        "    obs, reward, done, info = env.step(action)# TODO: step the environment\n",
        "\n",
        "    episode_return += reward # TODO: add reward to episode return\n",
        "\n",
        "  return episode_return"
      ]
    },
    {
      "cell_type": "code",
      "execution_count": 10,
      "metadata": {
        "id": "bA2Orj9PVbKO",
        "colab": {
          "base_uri": "https://localhost:8080/"
        },
        "outputId": "5c5545a7-8bd2-4dc8-f7e4-ad99ddc45c6e"
      },
      "outputs": [
        {
          "output_type": "stream",
          "name": "stdout",
          "text": [
            "Looks correct!\n"
          ]
        }
      ],
      "source": [
        "# @title Проверка упр 2 (run me) { display-mode: \"form\" }\n",
        "\n",
        "try:\n",
        "  env.seed(42)\n",
        "  if run_episode(env) == 31:\n",
        "    print(\"Looks correct!\")\n",
        "  else:\n",
        "    print(\"Looks like your implementation might be wrong.\")\n",
        "except Exception as e:\n",
        "    print(\"An Error Occured: {}\".format(e))"
      ]
    },
    {
      "cell_type": "markdown",
      "metadata": {
        "id": "fUGdzHxJnZGl"
      },
      "source": [
        "В CartPole среда считается решенной, когда агент может надежно достичь возврата эпизода 500. Как вы можете видеть, наша текущая политика далека от оптимальной.\n",
        "\n",
        "Один из способов найти оптимальную политику — это случайным образом пробовать разные политики, пока не найдем оптимальную. Эта стратегия называется случайным поиском политики и может быть на удивление эффективной.\n",
        "\n",
        "Прежде чем мы реализуем случайный поиск политики, давайте быстро рассмотрим общий цикл обучения RL, который мы будем использовать для реализации алгоритмов в оставшейся части этого руководства.\n",
        "\n",
        "### Цикл обучения RL общего назначения\n",
        "Мы реализовали для вас цикл обучения RL общего назначения. Цикл обучения принимает несколько аргументов в качестве входных данных, но три наиболее важных для понимания — это `agent_select_action_func`, `agent_learn_func` и `agent_memory`.\n",
        "\n",
        "* `agent_select_action_func` — это функция, которую мы определяем и можем передать в цикл обучения. Функция принимает наблюдение и набор `agent_params` в качестве входных данных и должна возвращать действие.\n",
        "* `agent_learn_func` — это еще один метод, который мы определяем и передаем в цикл обучения. Он должен принимать параметры агента и некоторые «воспоминания» в качестве входных данных, а затем обновлять и возвращать агентам новые параметры.\n",
        "* `agent_memory` — это модуль общего назначения, который мы определяем, который может хранить некоторую релевантную информацию об опыте агента в среде, которую можно использовать в `agent_learn_func`.\n",
        "\n",
        "Ниже приведена функция цикла обучения, которую мы реализовали для вас. Вы можете просмотреть код и попытаться понять его, но это не обязательно. Таким образом, мы скрыли код по умолчанию, просто убедитесь, что вы запустили ячейку кода, прежде чем двигаться дальше, потому что цикл обучения далее в коде."
      ]
    },
    {
      "cell_type": "code",
      "execution_count": 11,
      "metadata": {
        "id": "ZWBwz3zMRjM0"
      },
      "outputs": [],
      "source": [
        "#@title Training loop (run me) { display-mode: \"form\" }\n",
        "\n",
        "# NamedTuple to store transitions\n",
        "Transition = collections.namedtuple(\"Transition\", [\"obs\", \"action\", \"reward\", \"next_obs\", \"done\"])\n",
        "\n",
        "# Training Loop\n",
        "def run_training_loop(env_name, agent_params, agent_select_action_func,\n",
        "    agent_actor_state=None, agent_learn_func=None, agent_learner_state=None,\n",
        "    agent_memory=None, num_episodes=1000, evaluator_period=100,\n",
        "    evaluation_episodes=8, learn_steps_per_episode=1,\n",
        "    train_every_timestep=False, video_subdir=\"\",):\n",
        "    \"\"\"\n",
        "    This function runs several episodes in an environment and periodically does\n",
        "    some agent learning and evaluation.\n",
        "\n",
        "    Args:\n",
        "        env: a gym environment.\n",
        "        agent_params: an object to store parameters that the agent uses.\n",
        "        agent_select_func: a function that does action selection for the agent.\n",
        "        agent_actor_state (optional): an object that stores the internal state\n",
        "            of the agents action selection function.\n",
        "        agent_learn_func (optional): a function that does some learning for the\n",
        "            agent by updating the agent parameters.\n",
        "        agent_learn_state (optional): an object that stores the internal state\n",
        "            of the agent learn function.\n",
        "        agent_memory (optional): an object for storing an retrieving historical\n",
        "            experience.\n",
        "        num_episodes: how many episodes to run.\n",
        "        evaluator_period: how often to run evaluation.\n",
        "        evaluation_episodes: how many evaluation episodes to run.\n",
        "        train_every_timestep: whether to train every timestep rather than at the end\n",
        "            of the episode.\n",
        "        video_subdir: subdirectory to store epsiode recordings.\n",
        "\n",
        "    Returns:\n",
        "        episode_returns: list of all the episode returns.\n",
        "        evaluator_episode_returns: list of all the evaluator episode returns.\n",
        "    \"\"\"\n",
        "\n",
        "    # Setup Cartpole environment and recorder\n",
        "    env = gym.make(env_name, render_mode=\"rgb_array\") # training environment\n",
        "    eval_env = gym.make(env_name, render_mode=\"rgb_array\") # evaluation environment\n",
        "\n",
        "    # Video dir\n",
        "    video_dir = \"./video\"+\"/\"+video_subdir\n",
        "\n",
        "    # Clear video dir\n",
        "    try:\n",
        "      rmtree(video_dir)\n",
        "    except:\n",
        "      pass\n",
        "\n",
        "    # Wrap in recorder\n",
        "    env = RecordVideo(env, video_dir+\"/train\", episode_trigger=lambda x: (x % evaluator_period) == 0)\n",
        "    eval_env = RecordVideo(eval_env, video_dir+\"/eval\", episode_trigger=lambda x: (x % evaluation_episodes) == 0)\n",
        "\n",
        "    # JAX random number generator\n",
        "    rng = hk.PRNGSequence(jax.random.PRNGKey(0))\n",
        "    env.seed(0) # seed environment for reproducability\n",
        "    random.seed(0)\n",
        "\n",
        "    episode_returns = [] # List to store history of episode returns.\n",
        "    evaluator_episode_returns = [] # List to store history of evaluator returns.\n",
        "    timesteps = 0\n",
        "    for episode in range(num_episodes):\n",
        "\n",
        "        # Reset environment.\n",
        "        obs = env.reset()\n",
        "        episode_return = 0\n",
        "        done = False\n",
        "\n",
        "        while not done:\n",
        "\n",
        "            # Agent select action.\n",
        "            action, agent_actor_state = agent_select_action_func(\n",
        "                                            next(rng),\n",
        "                                            agent_params,\n",
        "                                            agent_actor_state,\n",
        "                                            np.array(obs)\n",
        "                                        )\n",
        "\n",
        "            # Step environment.\n",
        "            next_obs, reward, done, _ = env.step(int(action))\n",
        "\n",
        "            # Pack into transition.\n",
        "            transition = Transition(obs, action, reward, next_obs, done)\n",
        "\n",
        "            # Add transition to memory.\n",
        "            if agent_memory: # check if agent has memory\n",
        "              agent_memory.push(transition)\n",
        "\n",
        "            # Add reward to episode return.\n",
        "            episode_return += reward\n",
        "\n",
        "            # Set obs to next obs before next environment step. CRITICAL!!!\n",
        "            obs = next_obs\n",
        "\n",
        "            # Increment timestep counter\n",
        "            timesteps += 1\n",
        "\n",
        "            # Maybe learn every timestep\n",
        "            if train_every_timestep and (timesteps % 4 == 0) and agent_memory and agent_memory.is_ready(): # Make sure memory is ready\n",
        "                # First sample memory and then pass the result to the learn function\n",
        "                memory = agent_memory.sample()\n",
        "                agent_params, agent_learner_state = agent_learn_func(\n",
        "                                                        next(rng),\n",
        "                                                        agent_params,\n",
        "                                                        agent_learner_state,\n",
        "                                                        memory\n",
        "                                                    )\n",
        "\n",
        "        episode_returns.append(episode_return)\n",
        "\n",
        "        # At the end of every episode we do a learn step.\n",
        "        if agent_memory and agent_memory.is_ready(): # Make sure memory is ready\n",
        "\n",
        "            for _ in range(learn_steps_per_episode):\n",
        "                # First sample memory and then pass the result to the learn function\n",
        "                memory = agent_memory.sample()\n",
        "                agent_params, agent_learner_state = agent_learn_func(\n",
        "                                                        next(rng),\n",
        "                                                        agent_params,\n",
        "                                                        agent_learner_state,\n",
        "                                                        memory\n",
        "                                                    )\n",
        "\n",
        "        if (episode % evaluator_period) == 0: # Do evaluation\n",
        "\n",
        "            evaluator_episode_return = 0\n",
        "            for eval_episode in range(evaluation_episodes):\n",
        "                obs = eval_env.reset()\n",
        "                done = False\n",
        "                while not done:\n",
        "                    action, _ = agent_select_action_func(\n",
        "                                    next(rng),\n",
        "                                    agent_params,\n",
        "                                    agent_actor_state,\n",
        "                                    np.array(obs),\n",
        "                                    evaluation=True\n",
        "                                )\n",
        "\n",
        "                    obs, reward, done, _ = eval_env.step(int(action))\n",
        "\n",
        "                    evaluator_episode_return += reward\n",
        "\n",
        "            evaluator_episode_return /= evaluation_episodes\n",
        "\n",
        "            evaluator_episode_returns.append(evaluator_episode_return)\n",
        "\n",
        "            logs = [\n",
        "                    f\"Episode: {episode}\",\n",
        "                    f\"Episode Return: {episode_return}\",\n",
        "                    f\"Average Episode Return: {np.mean(episode_returns[-20:])}\",\n",
        "                    f\"Evaluator Episode Return: {evaluator_episode_return}\"\n",
        "            ]\n",
        "\n",
        "            print(*logs, sep=\"\\t\") # Print the logs\n",
        "\n",
        "    env.close()\n",
        "    eval_env.close()\n",
        "\n",
        "    return episode_returns, evaluator_episode_returns"
      ]
    },
    {
      "cell_type": "markdown",
      "metadata": {
        "id": "CTPlIq4oDBPY"
      },
      "source": [
        "##2. Случайный поиск политики (RPS)\n",
        "В разделе 1 мы использовали фиксированный набор параметров для нашей политики. То есть мы не изучали параметры $\\pi$ $\\theta$, мы просто сохранили их фиксированными ( `params = [1,-2,2,-1]`).\n",
        "\n",
        "Теперь мы реализуем случайный поиск политики (RPS), который представляет собой алгоритм, который случайным образом пробует различные параметры политики и отслеживает лучшие параметры, найденные на данный момент. Мы скажем, что параметры политики $\\theta_A$ лучше параметров $\\theta_B$, если средний возврат эпизода, достигнутый за последние 20 эпизодов политикой с параметрами $\\theta_A$, больше, чем у политики с параметрами $\\theta_B$.\n",
        "\n",
        "Чтобы отслеживать «текущие» параметры, а также «лучшие» параметры, мы будем использовать [NamedTuple](https://www.geeksforgeeks.org/namedtuple-in-python/)."
      ]
    },
    {
      "cell_type": "code",
      "execution_count": 12,
      "metadata": {
        "id": "1DcaC-PQRjM1",
        "colab": {
          "base_uri": "https://localhost:8080/"
        },
        "outputId": "2ecc76ee-3f1c-4596-de89-9c1d5d07103b"
      },
      "outputs": [
        {
          "output_type": "stream",
          "name": "stdout",
          "text": [
            "Best params: [0. 0. 0. 0.]\n",
            "Current params: [-1. -1. -1. -1.]\n"
          ]
        }
      ],
      "source": [
        "# Parameter container for Random Policy Search\n",
        "RandomPolicySearchParams = collections.namedtuple(\"RandomPolicySearchParams\", [\"current\", \"best\"])\n",
        "\n",
        "# TEST: store two different sets of parameters\n",
        "current_params = np.ones(obs_shape) * -1\n",
        "best_params = np.zeros(obs_shape)\n",
        "rps_params = RandomPolicySearchParams(current_params, best_params)\n",
        "\n",
        "# How to access the best or current params.\n",
        "print(f\"Best params: {rps_params.best}\")\n",
        "print(f\"Current params: {rps_params.current}\")"
      ]
    },
    {
      "cell_type": "markdown",
      "metadata": {
        "id": "v91pDDzGex9a"
      },
      "source": [
        "Далее мы реализуем следующее:\n",
        "- **Функция выбора действия RPS** - определяет, как мы выбираем действия с учетом набора параметров.\n",
        "- **Модуль памяти RPS** - определяет, какой опыт хранить из взаимодействий со средой.\n",
        "- **Функция обучения RPS** - определяет, как мы обновляем и улучшаем параметры нашей политики."
      ]
    },
    {
      "cell_type": "markdown",
      "metadata": {
        "id": "0tExceGeGNYH"
      },
      "source": [
        "### Функция выбора действия RPS\n",
        "Давайте реализуем функцию с именем `random_policy_search_choose_action`, которую мы можем передать в цикл обучения. Функция должна принимать несколько аргументов, чтобы она могла хорошо взаимодействовать с нашим обобщенным циклом обучения, но вам нужно будет использовать только три из них - `params`, `obs` и `evaluation`.\n",
        "\n",
        "- `params` - это экземпляр `RandomPolicySearchParams` с \"current\" и \"best\".\n",
        "- `obs` - это последнее наблюдение из среды.\n",
        "- `evaluation` - это логическое значение, которое указывает, следует ли нам использовать параметры \"current\" или \"best\". Когда `evaluation==True`, мы должны использовать параметры \"best\", в противном случае мы должны использовать параметры \"current\".\n",
        "\n",
        "**Упражнение 3:** Реализуйте функцию `random_policy_search_choose_action`, как описано выше. Вам следует использовать метод `linear_policy`, который мы определили ранее. Вам также понадобится `jax.lax.select()` для условного возврата \"лучшего\" действия или \"текущего\" действия."
      ]
    },
    {
      "cell_type": "code",
      "execution_count": 13,
      "metadata": {
        "id": "1kmwT35JRjM1"
      },
      "outputs": [],
      "source": [
        "def random_policy_search_choose_action(\n",
        "    key,\n",
        "    params,\n",
        "    actor_state,\n",
        "    obs,\n",
        "    evaluation=False\n",
        "):\n",
        "  \"\"\"Random policy search select action method.\n",
        "\n",
        "  Args:\n",
        "    key: a random number (seed). Not used in this function.\n",
        "    params: the agent's parameters. In this case an instance of `RandomPolicySearchParams`\n",
        "    actor_state: some extra information about the actor. Not used in this function.\n",
        "    obs: the latest observation.\n",
        "    evaluation: a boolean indicating whether to use the best \"parameters\" or the \"current\" ones.\n",
        "\n",
        "  Returns:\n",
        "    The chosen action and the updated actor_state. In this function the actor_state is not updated.\n",
        "  \"\"\"\n",
        "\n",
        "  # YOUR CODE\n",
        "\n",
        "  best_action = linear_policy(params.best,obs)\n",
        "\n",
        "  current_action = linear_policy(params.current,obs)\n",
        "\n",
        "  action = jax.lax.select(\n",
        "      evaluation ,\n",
        "      best_action ,\n",
        "      current_action\n",
        "  )\n",
        "\n",
        "  # END YOUR CODE\n",
        "\n",
        "  return action, actor_state"
      ]
    },
    {
      "cell_type": "code",
      "execution_count": 14,
      "metadata": {
        "id": "YE4xoAgyI3kG",
        "colab": {
          "base_uri": "https://localhost:8080/"
        },
        "outputId": "6d35e99d-b45b-472e-eb7f-6f7356e04422"
      },
      "outputs": [
        {
          "output_type": "stream",
          "name": "stdout",
          "text": [
            "Your function looks correct.\n"
          ]
        }
      ],
      "source": [
        "# @title Проверка упр 3 (run me) {display-mode: \"form\"}\n",
        "\n",
        "def check_random_policy_search_choose_action(choose_action):\n",
        "  key = None # not used\n",
        "  actor_state = None # not used\n",
        "\n",
        "  # obs\n",
        "  obs = np.ones(obs_shape)\n",
        "\n",
        "  evaluation=False\n",
        "  current_params = np.ones(obs_shape) * -1\n",
        "  best_params = np.ones(obs_shape)\n",
        "  rps_params = RandomPolicySearchParams(current_params, best_params)\n",
        "  action, actor_state = choose_action(key,rps_params,actor_state,obs,evaluation)\n",
        "  if action != 0:\n",
        "    return False\n",
        "\n",
        "  evaluation=True\n",
        "  current_params = np.ones(obs_shape) * -1\n",
        "  best_params = np.ones(obs_shape)\n",
        "  rps_params = RandomPolicySearchParams(current_params, best_params)\n",
        "  action, actor_state = choose_action(key,rps_params,actor_state,obs,evaluation)\n",
        "  if action != 1:\n",
        "    return False\n",
        "\n",
        "  return True\n",
        "\n",
        "try:\n",
        "  if check_random_policy_search_choose_action(random_policy_search_choose_action):\n",
        "    print(\"Your function looks correct.\")\n",
        "  else:\n",
        "    print(\"Your function looks incorrect.\")\n",
        "except Exception as e:\n",
        "    print(\"An Error Occured: {}\".format(e))"
      ]
    },
    {
      "cell_type": "markdown",
      "metadata": {
        "id": "6zu51ep7Sh0M"
      },
      "source": [
        "### Память агента RPS\n",
        "\n",
        "Для алгоритма поиска случайной политики нам нужно будет отслеживать средний возврат эпизода для последних 50 эпизодов. Помните, что мы сказали, что «текущие» параметры будут считаться «лучшими» параметрами, если средний возврат эпизода при использовании этих параметров больше предыдущего лучшего среднего возврата эпизода.\n",
        "\n",
        "Мы будем использовать интерфейс памяти общего назначения, который довольно прост. Модуль памяти должен иметь три метода. Первый — это функция `memory.push(<transition>)`, которая добавляет некоторую информацию о последнем переходе среды в память. Второй — это функция `memory.is_ready()`, которая проверяет, готова ли память к обучению. Наконец, функция `memory.sample()` должна возвращать последний набор воспоминаний, которые можно передать в `agent_learn_func`.\n",
        "\n",
        "#### Память среднего возврата эпизода\n",
        "Мы создали для вас простой модуль памяти агента. Он хранит `epsisode_returns` последних 20 эпизодов. Прочитайте нашу реализацию ниже и посмотрите, сможете ли вы ее понять. Метод `memory.sample()` возвращает средний возврат эпизода за последние 20 эпизодов."
      ]
    },
    {
      "cell_type": "code",
      "execution_count": 15,
      "metadata": {
        "id": "YVkTBIK5RjM1"
      },
      "outputs": [],
      "source": [
        "class AverageEpisodeReturnBuffer:\n",
        "\n",
        "    def __init__(self, num_episodes_to_store=50):\n",
        "        \"\"\"\n",
        "        This class implements an agent memory that stores the average episode\n",
        "        return over the last 50 episodes.\n",
        "        \"\"\"\n",
        "        self.num_episodes_to_store = num_episodes_to_store\n",
        "        self.episode_return_buffer = []\n",
        "        self.current_episode_return = 0\n",
        "\n",
        "    def push(self, transition):\n",
        "        self.current_episode_return += transition.reward\n",
        "\n",
        "        if transition.done: # If the episode is done\n",
        "            # Add episode return to buffer\n",
        "            self.episode_return_buffer.append(self.current_episode_return)\n",
        "\n",
        "            # Reset episode return\n",
        "            self.current_episode_return = 0\n",
        "\n",
        "\n",
        "    def is_ready(self):\n",
        "        return len(self.episode_return_buffer) == self.num_episodes_to_store\n",
        "\n",
        "    def sample(self):\n",
        "        average_episode_return = np.mean(self.episode_return_buffer)\n",
        "\n",
        "        # Clear episode return buffer\n",
        "        self.episode_return_buffer = []\n",
        "\n",
        "        return average_episode_return"
      ]
    },
    {
      "cell_type": "markdown",
      "metadata": {
        "id": "0oXBsSa2KjWE"
      },
      "source": [
        "### Функция обучения RPS\n",
        "Наконец, нам нужно реализовать функцию `random_policy_search_learn` для нашего алгоритма поиска случайной политики. Функция обучения довольно проста. Все, что нам нужно сделать, это проверить, лучше ли текущие параметры, чем лучшие параметры. Если они лучше, то установите лучшие параметры в качестве текущих параметров и случайным образом сгенерируйте новый набор текущих параметров.\n",
        "\n",
        "**Упражнение 4:** Напишите функцию для случайной генерации новых весов с использованием JAX. Веса должны быть выбраны из интервала `[-2,2]`.\n",
        "\n",
        "**Полезные функции:**\n",
        "*   `jax.random.uniform` ([docs](https://jax.readthedocs.io/en/latest/_autosummary/jax.random.uniform.html#jax.random.uniform))\n",
        "\n"
      ]
    },
    {
      "cell_type": "code",
      "execution_count": 16,
      "metadata": {
        "id": "8V2yFM2XMjGW"
      },
      "outputs": [],
      "source": [
        "def get_new_random_weights(random_key, old_weights, minval=-2.0, maxval=2.0):\n",
        "    new_weights_shape = old_weights.shape # you will need to use these values\n",
        "    new_weights_dtype = old_weights.dtype # you will need to use these values\n",
        "\n",
        "    # YOUR CODE\n",
        "\n",
        "    new_params = jax.random.uniform(random_key,new_weights_shape,new_weights_dtype,minval,maxval)\n",
        "    # END YOUR CODE\n",
        "\n",
        "    return new_params"
      ]
    },
    {
      "cell_type": "code",
      "execution_count": 17,
      "metadata": {
        "id": "T8ifHTKGQlAd",
        "colab": {
          "base_uri": "https://localhost:8080/"
        },
        "outputId": "cc072a90-794e-49a9-d8fd-2ec22083f2c3"
      },
      "outputs": [
        {
          "output_type": "stream",
          "name": "stdout",
          "text": [
            "Function is correct!\n"
          ]
        }
      ],
      "source": [
        "# @title Проверка упр 4 (run me) {display-mode: \"form\"}\n",
        "\n",
        "def check_get_new_random_weights(get_new_random_weights):\n",
        "  old_weights = np.ones(obs_shape, \"float32\")\n",
        "  random_key = jax.random.PRNGKey(42)\n",
        "\n",
        "  # Case 1\n",
        "  new_weights = get_new_random_weights(random_key, old_weights, minval=-2.0, maxval=2.0)\n",
        "\n",
        "  if jnp.array_equal(new_weights, jnp.array([ 0.29657745,1.4265499, -1.7621555, -1.7505779 ])):\n",
        "    print(\"Function is correct!\")\n",
        "  else:\n",
        "    print(\"Something is wrong.\")\n",
        "\n",
        "try:\n",
        "  check_get_new_random_weights(get_new_random_weights)\n",
        "except Exception as e:\n",
        "    print(\"An Error Occured: {}\".format(e))"
      ]
    },
    {
      "cell_type": "markdown",
      "metadata": {
        "id": "2Djxc9j-LzkM"
      },
      "source": [
        "Наша функция обучения получает память в форме среднего возврата эпизода из `AverageEpisodeReturnMemory`, которую мы реализовали ранее. Мы можем использовать это для сравнения текущих параметров с лучшими параметрами. Но нам также нужно будет отслеживать лучший средний возврат эпизода для функции обучения. Для этого мы можем использовать аргумент `learn_state`, который передается в `agent_learn_func` в нашем цикле обучения. Как и в случае с `RandomPolicySearchParams`, мы будем использовать NamedTuple для хранения `best_average_episode_return` в `learn_state`."
      ]
    },
    {
      "cell_type": "code",
      "execution_count": 18,
      "metadata": {
        "id": "4cSH4uYmRjM2",
        "colab": {
          "base_uri": "https://localhost:8080/"
        },
        "outputId": "5da25765-897d-4f60-926f-1fd027ef1995"
      },
      "outputs": [
        {
          "output_type": "stream",
          "name": "stdout",
          "text": [
            "Initial best average episode return: -inf\n"
          ]
        }
      ],
      "source": [
        "# A NamedTuple to store the best average episode return so far\n",
        "RandomPolicyLearnState = collections.namedtuple(\n",
        "  \"RandomPolicyLearnState\",\n",
        "  [\"best_average_episode_return\"]\n",
        ")\n",
        "\n",
        "# Test\n",
        "initial_learn_state = RandomPolicyLearnState(best_average_episode_return=-float(\"inf\"))\n",
        "print(\"Initial best average episode return:\", initial_learn_state.best_average_episode_return)"
      ]
    },
    {
      "cell_type": "markdown",
      "metadata": {
        "id": "PxZXdP8bOu6b"
      },
      "source": [
        "Теперь у нас есть все необходимое для реализации функции `random_policy_search_learn`.\n",
        "\n",
        "**Упражнение 5:** Реализуйте функцию `random_policy_search_learn`. Функция должна проверять, лучше ли «текущие» параметры, чем «лучшие» параметры, сравнивая `current_average_episode_return` с `best_average_episode_return`. Функция также должна обновлять `learn_state`."
      ]
    },
    {
      "cell_type": "code",
      "execution_count": 19,
      "metadata": {
        "id": "Te_Q3qzmZcN_"
      },
      "outputs": [],
      "source": [
        "def random_policy_search_learn(key, params, learn_state, memory):\n",
        "    best_params = params.best\n",
        "    current_params = params.current\n",
        "\n",
        "    current_average_episode_return = memory # the memory contains the average episode return\n",
        "    best_average_episode_return = learn_state.best_average_episode_return\n",
        "\n",
        "\n",
        "    # YOUR CODE\n",
        "\n",
        "    best_params = jax.lax.select(\n",
        "        current_average_episode_return < best_average_episode_return ,\n",
        "        best_params ,\n",
        "        current_params\n",
        "    )\n",
        "\n",
        "    best_average_episode_return = jax.lax.select(\n",
        "        current_average_episode_return < best_average_episode_return ,\n",
        "        best_average_episode_return ,\n",
        "        current_average_episode_return\n",
        "    )\n",
        "\n",
        "    # END YOUR CODE\n",
        "\n",
        "    # Generate new random parameters\n",
        "    new_params = get_new_random_weights(key, current_params)\n",
        "\n",
        "    # Bundle weights in RandomPolicySearchParams NamedTuple\n",
        "    params = RandomPolicySearchParams(current=new_params, best=best_params)\n",
        "\n",
        "    return params, RandomPolicyLearnState(best_average_episode_return)"
      ]
    },
    {
      "cell_type": "code",
      "execution_count": 20,
      "metadata": {
        "id": "CXHV4k2iBLBF",
        "colab": {
          "base_uri": "https://localhost:8080/"
        },
        "outputId": "1323410c-8b04-4396-f92c-a9889975285c"
      },
      "outputs": [
        {
          "output_type": "stream",
          "name": "stdout",
          "text": [
            "Your function looks correct.\n"
          ]
        }
      ],
      "source": [
        "#@title Проверка упр 5 {display-mode: \"form\"}\n",
        "\n",
        "params = RandomPolicySearchParams(np.ones(obs_shape, \"float32\"), np.ones(obs_shape, \"float32\") * -1)\n",
        "learn_state = RandomPolicyLearnState(10)\n",
        "memory = 11\n",
        "key = jax.random.PRNGKey(42)\n",
        "\n",
        "try:\n",
        "  new_params, new_learn_state = random_policy_search_learn(key, params, learn_state, memory)\n",
        "\n",
        "  if not jnp.array_equal(new_params.current, jnp.array([ 0.29657745,  1.4265499 , -1.7621555 , -1.7505779 ])):\n",
        "    print(\"Your function is incorrect.\")\n",
        "\n",
        "  elif not jnp.array_equal(new_params.best, jnp.array([1., 1., 1., 1.])):\n",
        "    print(\"Your function is incorrect.\")\n",
        "\n",
        "  elif new_learn_state.best_average_episode_return != 11:\n",
        "    print(\"Your function is incorrect.\")\n",
        "\n",
        "  else:\n",
        "    print(\"Your function looks correct.\")\n",
        "except Exception as e:\n",
        "    print(\"An Error Occured: {}\".format(e))"
      ]
    },
    {
      "cell_type": "markdown",
      "metadata": {
        "id": "5Ol_AxnMBdgP"
      },
      "source": [
        "### Цикл обучения RPS\n",
        "Теперь мы можем собрать все вместе, передав модуль `memory`, функцию `learn` и функцию `choose_action` в цикл обучения. Чтобы ускорить наш алгоритм, мы будем использовать `jax.jit` в функции `learn` и функции `choose_action`."
      ]
    },
    {
      "cell_type": "code",
      "execution_count": 21,
      "metadata": {
        "id": "Qx57tf7vRjM3",
        "colab": {
          "base_uri": "https://localhost:8080/",
          "height": 680
        },
        "outputId": "cca62f82-c505-4aef-b38e-127f4cf458f9"
      },
      "outputs": [
        {
          "output_type": "stream",
          "name": "stdout",
          "text": [
            "Starting training. This may take up to 5 minutes to complete.\n",
            "Episode: 0\tEpisode Return: 80.0\tAverage Episode Return: 80.0\tEvaluator Episode Return: 124.875\n",
            "Episode: 100\tEpisode Return: 83.0\tAverage Episode Return: 13.15\tEvaluator Episode Return: 146.0\n",
            "Episode: 200\tEpisode Return: 9.0\tAverage Episode Return: 9.65\tEvaluator Episode Return: 148.0\n",
            "Episode: 300\tEpisode Return: 28.0\tAverage Episode Return: 93.4\tEvaluator Episode Return: 159.75\n",
            "Episode: 400\tEpisode Return: 9.0\tAverage Episode Return: 99.45\tEvaluator Episode Return: 134.75\n",
            "Episode: 500\tEpisode Return: 103.0\tAverage Episode Return: 64.65\tEvaluator Episode Return: 123.375\n",
            "Episode: 600\tEpisode Return: 9.0\tAverage Episode Return: 50.75\tEvaluator Episode Return: 132.125\n",
            "Episode: 700\tEpisode Return: 35.0\tAverage Episode Return: 13.0\tEvaluator Episode Return: 143.75\n",
            "Episode: 800\tEpisode Return: 18.0\tAverage Episode Return: 12.3\tEvaluator Episode Return: 142.875\n",
            "Episode: 900\tEpisode Return: 60.0\tAverage Episode Return: 11.65\tEvaluator Episode Return: 135.125\n",
            "Episode: 1000\tEpisode Return: 9.0\tAverage Episode Return: 8.8\tEvaluator Episode Return: 166.625\n"
          ]
        },
        {
          "output_type": "display_data",
          "data": {
            "text/plain": [
              "<Figure size 640x480 with 1 Axes>"
            ],
            "image/png": "[encoded data removed]"
          },
          "metadata": {}
        }
      ],
      "source": [
        "# JIT the learn and choose action functions\n",
        "random_policy_search_learn_jit = jax.jit(random_policy_search_learn)\n",
        "random_policy_search_choose_action_jit = jax.jit(random_policy_search_choose_action)\n",
        "\n",
        "# Initialise the parameters\n",
        "initial_weights = np.ones(obs_shape, \"float32\")\n",
        "initial_params = RandomPolicySearchParams(initial_weights, initial_weights)\n",
        "\n",
        "# Initialise the learn state\n",
        "initial_learn_state = RandomPolicyLearnState(best_average_episode_return=-float(\"inf\"))\n",
        "\n",
        "# Initialise memory\n",
        "memory = AverageEpisodeReturnBuffer(num_episodes_to_store=50)\n",
        "\n",
        "# Run the training loop\n",
        "print(\"Starting training. This may take up to 5 minutes to complete.\")\n",
        "chex.clear_trace_counter()\n",
        "episode_return, evaluator_episode_returns = run_training_loop(\n",
        "                                        env_name,\n",
        "                                        initial_params,\n",
        "                                        random_policy_search_choose_action_jit,\n",
        "                                        None, # no actor state\n",
        "                                        random_policy_search_learn_jit,\n",
        "                                        initial_learn_state,\n",
        "                                        memory,\n",
        "                                        num_episodes=1001,\n",
        "                                        video_subdir=\"rps\"\n",
        "                                    )\n",
        "\n",
        "# Plot graph of evaluator episode returns\n",
        "plt.plot(np.linspace(0, 1000, len(evaluator_episode_returns)), evaluator_episode_returns)\n",
        "plt.title(\"Random Policy Search\")\n",
        "plt.xlabel(\"Episodes\")\n",
        "plt.ylabel(\"Episode Return\")\n",
        "plt.show()"
      ]
    },
    {
      "cell_type": "markdown",
      "metadata": {
        "id": "TG10FG6uS05A"
      },
      "source": [
        "Надеюсь, вы нашли набор оптимальных параметров на CartPole (возврат эпизода достигает `200`). В ячейке ниже вы можете посмотреть несколько видеороликов агента, выполняющего задание."
      ]
    },
    {
      "cell_type": "code",
      "execution_count": 22,
      "metadata": {
        "id": "KgayDJ7KWC4C",
        "colab": {
          "base_uri": "https://localhost:8080/",
          "height": 288
        },
        "outputId": "e3a74c38-6cdf-4236-e803-fd6965807138"
      },
      "outputs": [
        {
          "output_type": "execute_result",
          "data": {
            "text/plain": [
              "<IPython.core.display.HTML object>"
            ],
            "text/html": [
              "\n",
              "<video width=400 controls>\n",
              "      <source src=\"data:video/mp4;base64,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\" type=\"video/mp4\">\n",
              "</video>\n"
            ]
          },
          "metadata": {},
          "execution_count": 22
        }
      ],
      "source": [
        "#@title Visualise Policy {display-mode: \"form\"}\n",
        "#@markdown Choose an episode number that is a multiple of 100 and less than or equal to 2000, and **run** this cell.\n",
        "episode_number = 400 #@param {type:\"number\"}\n",
        "\n",
        "assert (episode_number % 100) == 0, \"Episode number must be a multiple of 100 since we only record every 100th episode.\"\n",
        "assert episode_number < 1001, \"Episode number must be less than or equal to 2000\"\n",
        "\n",
        "eval_episode_number = int(episode_number / 100 * 8)\n",
        "video_path = f\"./video/rps/eval/rl-video-episode-{eval_episode_number}.mp4\"\n",
        "\n",
        "mp4 = open(video_path,'rb').read()\n",
        "data_url = \"data:video/mp4;base64,\" + b64encode(mp4).decode()\n",
        "HTML(\"\"\"\n",
        "<video width=400 controls>\n",
        "      <source src=\"%s\" type=\"video/mp4\">\n",
        "</video>\n",
        "\"\"\" % data_url)"
      ]
    },
    {
      "cell_type": "markdown",
      "metadata": {
        "id": "Xwf1IKKbrrVn"
      },
      "source": [
        "Итак, случайный поиск политики справился с этой задачей довольно хорошо. Однако здесь происходит очень мало (если вообще происходит) реального *обучения*. Далее давайте рассмотрим реализацию простого алгоритма RL, который может использовать свой опыт для руководства нашим поиском оптимальной политики, а не просто искать ее случайным образом."
      ]
    },
    {
      "cell_type": "markdown",
      "metadata": {
        "id": "XEnSjZVESrxc"
      },
      "source": [
        "## 3. Градиенты политики  (Policy Gradients, PG)\n",
        "Как обсуждалось, цель RL — найти политику, которая максимизирует ожидаемое совокупное вознаграждение (возврат), которое агент получает от среды. Мы можем записать ожидаемый возврат политики как:\n",
        "\n",
        "$J(\\pi_\\theta)=\\mathrm{E}_{\\tau\\sim\\pi_\\theta}\\ [R(\\tau)]$,\n",
        "\n",
        "где $\\pi_\\theta$ — это политика, параметризованная $\\theta$, $\\mathrm{E}$ означает *ожидание*, $\\tau$ — это сокращение для \"*эпизод*\", $\\tau\\sim\\pi_\\theta$ — это сокращение для \"*эпизоды, выбранные с использованием политики* $\\pi_\\theta$\", а $R(\\tau)$ — это возврат эпизода $\\tau$.\n",
        "\n",
        "Затем, цель в RL — найти параметры $\\theta$, которые максимизируют функцию $J(\\pi_\\theta)$. Один из способов найти эти параметры — выполнить градиентный подъем по $J(\\pi_\\theta)$ относительно параметров $\\theta$:\n",
        "\n",
        "$\\theta_{k+1}=\\theta_k + \\alpha \\nabla J(\\pi_\\theta)|_{\\theta_{k}}$,\n",
        "\n",
        "где $\\nabla J(\\pi_\\theta)|_{\\theta_{k}}$ — градиент ожидаемой доходности относительно параметров политики $\\theta_k$, а $\\alpha$ — размер шага. Эта величина, $\\nabla J(\\pi_\\theta)$, также называется **градиентом политики** и очень важна в RL. Если мы сможем вычислить градиент политики, то у нас будет средство, с помощью которого можно напрямую оптимизировать нашу политику.\n",
        "\n",
        "Как оказалось, у нас есть способ вычислить градиент политики, и математический вывод можно найти [здесь](https://spinningup.openai.com/en/latest/spinningup/rl_intro3.html). Но для этого руководства мы опустим вывод и просто дадим вам результат:\n",
        "\n",
        "$\\nabla_{\\theta} J(\\pi_{\\theta})=\\underset{\\tau \\sim \\pi_{\\theta}}{\\mathrm{E}}[\\sum_{t=0}^{T} \\nabla_{\\theta} \\log \\pi_{\\theta}(a_{t} \\mid s_{t}) R(\\tau)]$\n",
        "\n",
        "Неформально, градиент политики равен градиенту логарифма вероятности выбранного действия, умноженного на возврат эпизода, в котором было предпринято действие.\n"
      ]
    },
    {
      "cell_type": "markdown",
      "metadata": {
        "id": "BTnTzgtSuy-y"
      },
      "source": [
        "### REINFORCE\n",
        "REINFORCE — это простой алгоритм RL, который использует градиент политики для поиска оптимальной политики путем увеличения вероятности выбора действий (усиливающих действий), которые, как правило, приводят к эпизодам с высокой отдачей.\n",
        "\n",
        "**Упражнение 6:** Реализуйте функцию, которая берет вероятность действия и отдачу эпизода, в котором действие было предпринято, и вычисляет логарифм вероятности, умноженный на отдачу. Убедитесь, что вы используете JAX.\n",
        "\n",
        "**Полезные функции:**\n",
        "*   `jax.numpy.log`([docs](https://jax.readthedocs.io/en/latest/_autosummary/jax.numpy.log.html))"
      ]
    },
    {
      "cell_type": "code",
      "execution_count": 23,
      "metadata": {
        "id": "bJObUsoUrOyV"
      },
      "outputs": [],
      "source": [
        "def compute_weighted_log_prob(action_prob, episode_return):\n",
        "\n",
        "    # YOUR CODE\n",
        "\n",
        "    log_prob = jax.numpy.log(action_prob)\n",
        "\n",
        "    weighted_log_prob = log_prob * episode_return\n",
        "\n",
        "    # END YOUR CODE\n",
        "\n",
        "    return weighted_log_prob"
      ]
    },
    {
      "cell_type": "code",
      "execution_count": 24,
      "metadata": {
        "id": "eZPoTwa1Gbm1",
        "colab": {
          "base_uri": "https://localhost:8080/"
        },
        "outputId": "ce234bba-9e04-4bcd-8ed1-6a3bfd9354f9"
      },
      "outputs": [
        {
          "output_type": "stream",
          "name": "stdout",
          "text": [
            "Looks correct.\n"
          ]
        }
      ],
      "source": [
        "#@title Проверка упр 6 {display-mode: \"form\"}\n",
        "\n",
        "try:\n",
        "  action_prob = 0.8\n",
        "  episode_return = 100\n",
        "  result = compute_weighted_log_prob(action_prob, episode_return)\n",
        "  if result != -22.314354:\n",
        "    print(\"Your implementation looks incorrect.\")\n",
        "  else:\n",
        "    print(\"Looks correct.\")\n",
        "except Exception as e:\n",
        "    print(\"An Error Occured: {}\".format(e))"
      ]
    },
    {
      "cell_type": "markdown",
      "metadata": {
        "id": "NmgW9UJ3tIpl"
      },
      "source": [
        "### Rewards-to-go\n",
        "Выполнение градиентного подъема по градиенту логарифма вероятности действия, взвешенного по возврату эпизода, будет иметь тенденцию повышать вероятность действий, которые были в эпизодах с высоким возвратом, независимо от того, *где* в эпизоде ​​было выполнено действие. Это на самом деле не имеет большого смысла, потому что действие ближе к концу эпизода может быть подкреплено, потому что много вознаграждения было собрано ранее в эпизоде, *до* того, как было выполнено действие. Агенты RL должны на самом деле подкреплять действия только на основе их *последствий*. Вознаграждения, полученные до выполнения действия, не влияют на то, насколько хорошим было это действие: только вознаграждения, которые приходят после. Накопленные вознаграждения, полученные после выполнения действия, называются **вознаграждениями-к-переходу** и могут быть вычислены как:\n",
        "\n",
        "$\\hat{R}_i=\\sum_{t=i}^Tr_t$\n",
        "\n",
        "Сравните это с доходностью эпизода:\n",
        "\n",
        "$R(\\tau)=\\sum_{t=0}^Tr_t$\n",
        "\n",
        "Мы можем повысить надежность градиента политики, заменив доходность эпизода на вознаграждения-к-переходу. Градиент политики с оставшимися наградами задается следующим образом:\n",
        "\n",
        "$\\nabla_{\\theta} J(\\pi_{\\theta})=\\underset{\\tau \\sim \\pi_{\\theta}}{\\mathrm{E}}[\\sum_{t=0}^{T} \\nabla_{\\theta} \\log \\pi_{\\theta}(a_{t} \\mid s_{t}) \\hat{R}_t]$\n",
        "\n",
        "**Упражнение 7:** Реализуйте функцию, которая берет список всех наград, полученных в эпизоде, и вычисляет оставшиеся награды. Не беспокойтесь об использовании JAX в этой функции. Вы можете использовать обычные операции Python, такие как `for-loops`."
      ]
    },
    {
      "cell_type": "code",
      "execution_count": 25,
      "metadata": {
        "id": "nV1Hww8E3dUJ"
      },
      "outputs": [],
      "source": [
        "def compute_rewards_to_go(rewards):\n",
        "    \"\"\"\n",
        "    This function should take a list of rewards as input and\n",
        "    compute the rewards-to-go for each timestep.\n",
        "\n",
        "    EXAMPLE: compute_rewards_to_go([1,2,3,4]) = [10, 9, 7, 4]\n",
        "\n",
        "    Arguments:\n",
        "        rewards[t] is the reward at time step t.\n",
        "\n",
        "    Returns:\n",
        "        rewards_to_go[t] should be the reward-to-go at timestep t.\n",
        "    \"\"\"\n",
        "\n",
        "    rewards_to_go = [sum(rewards[t:]) for t, _ in enumerate(rewards)]\n",
        "    # YOUR CODE\n",
        "\n",
        "    # END YOUR CODE\n",
        "\n",
        "    return rewards_to_go"
      ]
    },
    {
      "cell_type": "code",
      "execution_count": 26,
      "metadata": {
        "id": "hLVaVRp28YGI",
        "colab": {
          "base_uri": "https://localhost:8080/"
        },
        "outputId": "e03ce568-1b52-4de9-fbc8-ec34a1a63ce5"
      },
      "outputs": [
        {
          "output_type": "stream",
          "name": "stdout",
          "text": [
            "Looks correct.\n"
          ]
        }
      ],
      "source": [
        "#@title Проверка упр 7 {display-mode: \"form\"}\n",
        "\n",
        "try:\n",
        "  result = compute_rewards_to_go([1,2,3,4])\n",
        "\n",
        "  if result != [10, 9, 7, 4]:\n",
        "    print(\"There is a problem with your implementation.\")\n",
        "  else:\n",
        "    print(\"Looks correct.\")\n",
        "except Exception as e:\n",
        "    print(\"An Error Occured: {}\".format(e))\n"
      ]
    },
    {
      "cell_type": "markdown",
      "metadata": {
        "id": "IboxN9MS65i5"
      },
      "source": [
        "### REINFORCE memory\n",
        "Далее нам нужно будет создать новую память агента для хранения вознаграждений $\\hat{R}_t$ вместе с наблюдением $o_t$ и действием $a_t$ на каждом временном шаге. Ниже мы реализовали такой модуль памяти для вас. Функция `memory.sample()` вернет пакет из последних 500 воспоминаний. Вы можете прочитать код, чтобы попытаться понять его, но это не обязательно. Поэтому мы скрываем код по умолчанию."
      ]
    },
    {
      "cell_type": "code",
      "execution_count": 27,
      "metadata": {
        "id": "xhS4V6auRjM3"
      },
      "outputs": [],
      "source": [
        "# @title Реализация памяти (run me) {display-mode: \"form\"}\n",
        "\n",
        "# NamedTuple to store memory\n",
        "EpisodeRewardsToGoMemory = collections.namedtuple(\"EpisodeRewardsToGoMemory\", [\"obs\", \"action\", \"reward_to_go\"])\n",
        "\n",
        "class EpisodeRewardsToGoBuffer:\n",
        "\n",
        "    def __init__(self, num_transitions_to_store=512, batch_size=256):\n",
        "        self.batch_size = batch_size\n",
        "        self.memory_buffer = collections.deque(maxlen=num_transitions_to_store)\n",
        "        self.current_episode_transition_buffer = []\n",
        "\n",
        "    def push(self, transition):\n",
        "        self.current_episode_transition_buffer.append(transition)\n",
        "\n",
        "        if transition.done:\n",
        "\n",
        "            episode_rewards = []\n",
        "            for t in self.current_episode_transition_buffer:\n",
        "                episode_rewards.append(t.reward)\n",
        "\n",
        "            r2g = compute_rewards_to_go(episode_rewards)\n",
        "\n",
        "            for i, t in enumerate(self.current_episode_transition_buffer):\n",
        "                memory = EpisodeRewardsToGoMemory(t.obs, t.action, r2g[i])\n",
        "                self.memory_buffer.append(memory)\n",
        "\n",
        "            # Reset episode buffer\n",
        "            self.current_episode_transition_buffer = []\n",
        "\n",
        "\n",
        "    def is_ready(self):\n",
        "        return len(self.memory_buffer) >= self.batch_size\n",
        "\n",
        "    def sample(self):\n",
        "        random_memory_sample = random.sample(self.memory_buffer, self.batch_size)\n",
        "\n",
        "        obs_batch, action_batch, reward_to_go_batch = zip(*random_memory_sample)\n",
        "\n",
        "        return EpisodeRewardsToGoMemory(\n",
        "            np.stack(obs_batch).astype(\"float32\"),\n",
        "            np.asarray(action_batch).astype(\"int32\"),\n",
        "            np.asarray(reward_to_go_batch).astype(\"int32\")\n",
        "        )\n",
        "\n",
        "\n",
        "# Instantiate Memory\n",
        "REINFORCE_memory = EpisodeRewardsToGoBuffer(num_transitions_to_store=512, batch_size=256)"
      ]
    },
    {
      "cell_type": "markdown",
      "metadata": {
        "id": "Idkav_aSYXvz"
      },
      "source": [
        "### Policy neural network\n",
        "Далее мы будем использовать простую нейронную сеть для аппроксимации политики. Наша нейронная сеть политики будет иметь входной слой, который принимает наблюдение в качестве входных данных и пропускает его через два скрытых слоя, а затем выводит одно скалярное значение для каждого из возможных действий. Таким образом, в CartPole выходной слой будет иметь размер `2`.\n",
        "\n",
        "[Haiku](https://github.com/deepmind/dm-haiku) — это библиотека для реализации нейронных сетей в JAX. Ниже мы реализовали простую функцию для создания сети политики для вас.\n"
      ]
    },
    {
      "cell_type": "code",
      "execution_count": 28,
      "metadata": {
        "id": "j2XO7VkORjM4"
      },
      "outputs": [],
      "source": [
        "def make_policy_network(num_actions: int, layers=[20, 20]) -> hk.Transformed:\n",
        "  \"\"\"Factory for a simple MLP network for the policy.\"\"\"\n",
        "\n",
        "  def policy_network(obs):\n",
        "    network = hk.Sequential(\n",
        "        [\n",
        "            hk.Flatten(),\n",
        "            hk.nets.MLP(layers + [num_actions])\n",
        "        ]\n",
        "    )\n",
        "    return network(obs)\n",
        "\n",
        "  return hk.without_apply_rng(hk.transform(policy_network))"
      ]
    },
    {
      "cell_type": "markdown",
      "metadata": {
        "id": "1GR2y8FjaG-G"
      },
      "source": [
        "У сетей Haiku есть две важные функции, о которых вам нужно знать. Первая — `network.init(<random_key>, <input>)`, которая возвращает набор случайных начальных параметров. Второй метод — `network.apply(<params>, <input>)`, который передает входные данные через сеть, используя предоставленный набор параметров."
      ]
    },
    {
      "cell_type": "code",
      "execution_count": 29,
      "metadata": {
        "id": "fJrn9o-Vatkw",
        "colab": {
          "base_uri": "https://localhost:8080/"
        },
        "outputId": "995bf567-dbf8-4c28-f135-f2abe721c8fd"
      },
      "outputs": [
        {
          "output_type": "stream",
          "name": "stdout",
          "text": [
            "Initial params: dict_keys(['mlp/~/linear_0', 'mlp/~/linear_1', 'mlp/~/linear_2'])\n",
            "Policy network output: [ 0.91155875 -0.3961737 ]\n"
          ]
        }
      ],
      "source": [
        "# Example\n",
        "POLICY_NETWORK = make_policy_network(num_actions=num_actions, layers=[20,20])\n",
        "random_key = jax.random.PRNGKey(42) # random key\n",
        "dummy_obs = np.ones(obs_shape, \"float32\")\n",
        "\n",
        "# Initialise parameters\n",
        "REINFORCE_params = POLICY_NETWORK.init(random_key, dummy_obs)\n",
        "print(\"Initial params:\", REINFORCE_params.keys())\n",
        "\n",
        "# Pass input through the network\n",
        "output = POLICY_NETWORK.apply(REINFORCE_params, dummy_obs)\n",
        "print(\"Policy network output:\", output)\n"
      ]
    },
    {
      "cell_type": "markdown",
      "metadata": {
        "id": "MlouUBvoeunz"
      },
      "source": [
        "Выходы нашей сети политик — [логиты](https://qr.ae/pv4YTe). Чтобы преобразовать это в распределение вероятностей по действиям, мы передаем логиты в функцию [softmax](https://en.wikipedia.org/wiki/Softmax_function).\n",
        "\n",
        "### УСИЛЕНИЕ выбор функции действия\n",
        "\n",
        "**Упражнение 8:** Завершите функцию ниже, которая берет вектор логитов и случайным образом выбирает действие из категориального распределения, заданного логитами.\n",
        "\n",
        "**Полезные функции:**\n",
        "*   `jax.random.categorical`([docs](https://jax.readthedocs.io/en/latest/_autosummary/jax.random.categorical.html#jax.random.categorical))"
      ]
    },
    {
      "cell_type": "code",
      "execution_count": 30,
      "metadata": {
        "id": "m3Z8DxUmeOGJ"
      },
      "outputs": [],
      "source": [
        "def sample_action(random_key, logits):\n",
        "\n",
        "  # YOUR CODE HERE\n",
        "  action = jax.random.categorical(random_key, logits)\n",
        "\n",
        "  # END YOUR code\n",
        "\n",
        "  return action"
      ]
    },
    {
      "cell_type": "code",
      "execution_count": 31,
      "metadata": {
        "id": "5opHJMO0D_Ub",
        "colab": {
          "base_uri": "https://localhost:8080/"
        },
        "outputId": "3cade5f3-a48c-4f58-e6f6-42f566061237"
      },
      "outputs": [
        {
          "output_type": "stream",
          "name": "stdout",
          "text": [
            "Seems correct.\n"
          ]
        }
      ],
      "source": [
        "#@title Проверка упр 8 {display-mode: \"form\"}\n",
        "\n",
        "try:\n",
        "  random_key = jax.random.PRNGKey(42) # random key\n",
        "  action = sample_action(random_key, np.array([1,2], \"float32\"))\n",
        "  if action != 1:\n",
        "    print(\"Your function is incorrect.\")\n",
        "  else:\n",
        "    print(\"Seems correct.\")\n",
        "except Exception as e:\n",
        "    print(\"An Error Occured: {}\".format(e))"
      ]
    },
    {
      "cell_type": "markdown",
      "metadata": {
        "id": "jP5UH87VRjM4"
      },
      "source": [
        "Теперь мы можем реализовать функцию `REINFORCE_choose_action`. Мы передадим наблюдение через сеть политики для вычисления логитов, а затем передадим логиты в функцию `sample_action` для выбора и действия."
      ]
    },
    {
      "cell_type": "code",
      "execution_count": 32,
      "metadata": {
        "id": "UJTzrDAZ0Ul5"
      },
      "outputs": [],
      "source": [
        "def REINFORCE_choose_action(key, params, actor_state, obs, evaluation=False):\n",
        "  obs = jnp.expand_dims(obs, axis=0) # add dummy batch dim before passing through network\n",
        "\n",
        "  # Pass obs through policy network to compute logits\n",
        "  logits = POLICY_NETWORK.apply(params, obs)\n",
        "  logits = logits[0] # remove batch dim\n",
        "\n",
        "  # Randomly sample action\n",
        "  sampled_action = sample_action(key, logits)\n",
        "\n",
        "  return sampled_action, actor_state"
      ]
    },
    {
      "cell_type": "markdown",
      "metadata": {
        "id": "NI26SLAb7iRo"
      },
      "source": [
        "Теперь, когда мы реализовали функцию `REINFORCE_choose_action`, нам осталось только создать функцию `REINFORCE_learn`. Функция обучения должна использовать функцию `weighted_log_prob`, которую мы создали ранее, чтобы вычислить потери градиента политики и применить обновления градиента к нашей нейронной сети."
      ]
    },
    {
      "cell_type": "markdown",
      "metadata": {
        "id": "36ALCJESQJ8e"
      },
      "source": [
        "### Policy gradient loss\n",
        "\n",
        "\n",
        "**Упражнение 9:** Завершите функцию `policy_gradient_loss` ниже. Функция должна вычислять вероятности действий, пропуская `logits` через функцию softmax. Затем следует извлечь вероятность заданного `action` (используя индексацию массива) и вычислить `weighted_log_prob`, используя функцию, которую мы создали ранее.\n",
        "\n",
        "**Полезные методы:**\n",
        "*   `jax.nn.softmax` ([docs](https://jax.readthedocs.io/en/latest/_autosummary/jax.nn.softmax.html))"
      ]
    },
    {
      "cell_type": "code",
      "execution_count": 33,
      "metadata": {
        "id": "9sUKkqx0RjM4"
      },
      "outputs": [],
      "source": [
        "def policy_gradient_loss(action, logits, reward_to_go):\n",
        "\n",
        "  # YOUR CODE\n",
        "\n",
        "  all_action_probs = jax.nn.softmax(logits) # convert logits into probs\n",
        "\n",
        "  action_prob = all_action_probs[action] # using array indexing to get prob of action\n",
        "\n",
        "  weighted_log_prob = compute_weighted_log_prob(action_prob, reward_to_go)\n",
        "\n",
        "  # END YOUR CODE\n",
        "\n",
        "  loss = -weighted_log_prob # negative because we want gradient `ascent`\n",
        "\n",
        "  return loss"
      ]
    },
    {
      "cell_type": "code",
      "execution_count": 34,
      "metadata": {
        "id": "7AMJvau1FsM5",
        "colab": {
          "base_uri": "https://localhost:8080/"
        },
        "outputId": "049bd764-a4a8-4f41-917f-5c4f2c6ac243"
      },
      "outputs": [
        {
          "output_type": "stream",
          "name": "stdout",
          "text": [
            "Looks correct.\n"
          ]
        }
      ],
      "source": [
        "#@title Проверка упр 9 {display-mode: \"form\"}\n",
        "\n",
        "try:\n",
        "  result = policy_gradient_loss(1, np.array([1,2], \"float32\"), 10)\n",
        "  if result != 3.1326165:\n",
        "    print(\"Your implementation looks wrong.\")\n",
        "  else:\n",
        "    print(\"Looks correct.\")\n",
        "except Exception as e:\n",
        "  print(\"An Error Occured: {}\".format(e))\n"
      ]
    },
    {
      "cell_type": "markdown",
      "metadata": {
        "id": "Gzuqx1jJrwVx"
      },
      "source": [
        "Когда мы делаем шаг обновления градиента политики, мы захотим сделать это, используя пакет опыта, а не просто один опыт, как выше. Мы можем использовать функцию JAX [vmap](https://jax.readthedocs.io/en/latest/_autosummary/jax.vmap.html#jax.vmap), чтобы легко заставить нашу функцию `policy_gradient_loss` работать с пакетом опыта."
      ]
    },
    {
      "cell_type": "code",
      "execution_count": 35,
      "metadata": {
        "id": "3yq4naLURjM4",
        "colab": {
          "base_uri": "https://localhost:8080/"
        },
        "outputId": "ad3ff99f-275e-4d7f-cc1a-a50222ebd300"
      },
      "outputs": [
        {
          "output_type": "stream",
          "name": "stdout",
          "text": [
            "Policy gradient loss on batch: 1.6967314\n"
          ]
        }
      ],
      "source": [
        "def batched_policy_gradient_loss(params, obs_batch, action_batch, reward_to_go_batch):\n",
        "    # Get logits by passing observation through network\n",
        "    logits_batch = POLICY_NETWORK.apply(params, obs_batch)\n",
        "\n",
        "    policy_gradient_loss_batch = jax.vmap(policy_gradient_loss)(\n",
        "        action_batch,\n",
        "        logits_batch,\n",
        "        reward_to_go_batch) # add batch\n",
        "\n",
        "    # Compute mean loss over batch\n",
        "    mean_policy_gradient_loss = jnp.mean(policy_gradient_loss_batch)\n",
        "\n",
        "    return mean_policy_gradient_loss\n",
        "\n",
        "# TEST\n",
        "obs_batch = np.ones((3, *obs_shape), \"float32\")\n",
        "actions_batch = np.array([1,0,0])\n",
        "rew2go_batch = np.array([2.3, 4.3, 2.1])\n",
        "\n",
        "loss = batched_policy_gradient_loss(REINFORCE_params, obs_batch, actions_batch, rew2go_batch)\n",
        "\n",
        "print(\"Policy gradient loss on batch:\", loss)"
      ]
    },
    {
      "cell_type": "markdown",
      "metadata": {
        "id": "VDhTH3culwqo"
      },
      "source": [
        "### Оптимизатор сети\n",
        "\n",
        "Чтобы применить обновления градиента политики к нашей нейронной сети, мы будем использовать библиотеку JAX под названием [Optax](https://github.com/deepmind/optax). Optax имеет реализацию [оптимизатора Adam](https://www.geeksforgeeks.org/intuition-of-adam-optimizer/), которую мы можем использовать."
      ]
    },
    {
      "cell_type": "code",
      "execution_count": 36,
      "metadata": {
        "id": "pxXINlMHP5Ic"
      },
      "outputs": [],
      "source": [
        "REINFORCE_OPTIMIZER = optax.adam(1e-3)\n",
        "\n",
        "# Initialise the optimiser\n",
        "REINFORCE_optim_state = REINFORCE_OPTIMIZER.init(REINFORCE_params)"
      ]
    },
    {
      "cell_type": "markdown",
      "metadata": {
        "id": "ViENrHOALbCw"
      },
      "source": [
        "Теперь у нас есть все необходимое для создания функции `REINFORCE_learn`. Мы сохраним состояние оптимизатора в `learn_state`. Мы вычислим градиент потерь градиента политики с помощью  `jax.grad` ([docs](https://jax.readthedocs.io/en/latest/_autosummary/jax.grad.html))."
      ]
    },
    {
      "cell_type": "code",
      "execution_count": 37,
      "metadata": {
        "id": "CQr2Uz5ORjM5"
      },
      "outputs": [],
      "source": [
        "# A NamedTuple to store the state of the optimiser\n",
        "REINFORCELearnState = collections.namedtuple(\"LearnerState\", [\"optim_state\"])\n",
        "\n",
        "\n",
        "def REINFORCE_learn(key, params, learner_state, memory):\n",
        "\n",
        "  # Get the policy gradient by using `jax.grad()` on `batched_policy_gradient_loss`\n",
        "  grad_loss = jax.grad(batched_policy_gradient_loss)(params, memory.obs, memory.action, memory.reward_to_go)\n",
        "\n",
        "  # Get param updates using gradient and optimizer\n",
        "  updates, new_optim_state = REINFORCE_OPTIMIZER.update(grad_loss, learner_state.optim_state)\n",
        "\n",
        "  # Apply updates to params\n",
        "  params = optax.apply_updates(params, updates)\n",
        "\n",
        "  return params, REINFORCELearnState(new_optim_state) # update learner state"
      ]
    },
    {
      "cell_type": "markdown",
      "metadata": {
        "id": "5an3U2NhRKgG"
      },
      "source": [
        "### Цикл обучения REINFORCE\n",
        "Теперь мы можем обучить нашего агента REINFORCE, собрав все воедино с помощью цикла обучения."
      ]
    },
    {
      "cell_type": "code",
      "execution_count": 38,
      "metadata": {
        "id": "vioIcVGsRjM5",
        "colab": {
          "base_uri": "https://localhost:8080/",
          "height": 680
        },
        "outputId": "d47da5f2-f1a7-40f4-d5fd-dbe66b7ce99e"
      },
      "outputs": [
        {
          "output_type": "stream",
          "name": "stdout",
          "text": [
            "Starting training. This may take up to 10 minutes to complete.\n",
            "Episode: 0\tEpisode Return: 12.0\tAverage Episode Return: 12.0\tEvaluator Episode Return: 17.5\n",
            "Episode: 100\tEpisode Return: 57.0\tAverage Episode Return: 38.55\tEvaluator Episode Return: 60.625\n",
            "Episode: 200\tEpisode Return: 200.0\tAverage Episode Return: 167.15\tEvaluator Episode Return: 185.5\n",
            "Episode: 300\tEpisode Return: 200.0\tAverage Episode Return: 200.0\tEvaluator Episode Return: 196.375\n",
            "Episode: 400\tEpisode Return: 200.0\tAverage Episode Return: 200.0\tEvaluator Episode Return: 183.25\n",
            "Episode: 500\tEpisode Return: 200.0\tAverage Episode Return: 194.4\tEvaluator Episode Return: 199.375\n",
            "Episode: 600\tEpisode Return: 200.0\tAverage Episode Return: 190.85\tEvaluator Episode Return: 184.25\n",
            "Episode: 700\tEpisode Return: 200.0\tAverage Episode Return: 199.2\tEvaluator Episode Return: 200.0\n",
            "Episode: 800\tEpisode Return: 200.0\tAverage Episode Return: 200.0\tEvaluator Episode Return: 200.0\n",
            "Episode: 900\tEpisode Return: 200.0\tAverage Episode Return: 198.8\tEvaluator Episode Return: 198.125\n",
            "Episode: 1000\tEpisode Return: 200.0\tAverage Episode Return: 200.0\tEvaluator Episode Return: 200.0\n"
          ]
        },
        {
          "output_type": "display_data",
          "data": {
            "text/plain": [
              "<Figure size 640x480 with 1 Axes>"
            ],
            "image/png": "[encoded data removed]"
          },
          "metadata": {}
        }
      ],
      "source": [
        "# JIT the choose_action and learn functions for more speed\n",
        "REINFORCE_learn_jit = jax.jit(REINFORCE_learn)\n",
        "REINFORCE_choose_action_jit = jax.jit(REINFORCE_choose_action)\n",
        "\n",
        "# Initial learn state\n",
        "REINFORCE_learn_state = REINFORCELearnState(REINFORCE_optim_state)\n",
        "\n",
        "# Run training loop\n",
        "print(\"Starting training. This may take up to 10 minutes to complete.\")\n",
        "episode_returns, evaluator_returns = run_training_loop(\n",
        "                                        env_name,\n",
        "                                        REINFORCE_params,\n",
        "                                        REINFORCE_choose_action_jit,\n",
        "                                        None, # action state not used\n",
        "                                        REINFORCE_learn_jit,\n",
        "                                        REINFORCE_learn_state,\n",
        "                                        REINFORCE_memory,\n",
        "                                        num_episodes=1001,\n",
        "                                        learn_steps_per_episode=2,\n",
        "                                        video_subdir=\"reinforce\"\n",
        "                                      )\n",
        "\n",
        "# Plot the episode returns\n",
        "plt.plot(episode_returns)\n",
        "plt.xlabel(\"Episode\")\n",
        "plt.ylabel(\"Episode Return\")\n",
        "plt.title(\"REINFORCE\")\n",
        "plt.show()\n"
      ]
    },
    {
      "cell_type": "code",
      "execution_count": 39,
      "metadata": {
        "id": "caKL3ngNr_Yh",
        "colab": {
          "base_uri": "https://localhost:8080/",
          "height": 288
        },
        "outputId": "70b1170e-6896-42f8-8891-4879126b4c67"
      },
      "outputs": [
        {
          "output_type": "execute_result",
          "data": {
            "text/plain": [
              "<IPython.core.display.HTML object>"
            ],
            "text/html": [
              "\n",
              "<video width=400 controls>\n",
              "      <source src=\"data:video/mp4;base64,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\" type=\"video/mp4\">\n",
              "</video>\n"
            ]
          },
          "metadata": {},
          "execution_count": 39
        }
      ],
      "source": [
        "#@title Визуализация {display-mode: \"form\"}\n",
        "#@markdown Выберите номер эпизода, менее или равного 1000, и **run this cell**.\n",
        "\n",
        "episode_number = 1000 #@param {type:\"number\"}\n",
        "\n",
        "assert (episode_number % 100) == 0, \"Episode number must be a multiple of 100 since we only record every 100th episode.\"\n",
        "assert episode_number < 1001, \"Episode number must be less than or equal to 1000\"\n",
        "\n",
        "eval_episode_number = int(episode_number / 100 * 8)\n",
        "video_path = f\"./video/reinforce/eval/rl-video-episode-{eval_episode_number}.mp4\"\n",
        "\n",
        "mp4 = open(video_path,'rb').read()\n",
        "data_url = \"data:video/mp4;base64,\" + b64encode(mp4).decode()\n",
        "HTML(\"\"\"\n",
        "<video width=400 controls>\n",
        "      <source src=\"%s\" type=\"video/mp4\">\n",
        "</video>\n",
        "\"\"\" % data_url)"
      ]
    },
    {
      "cell_type": "markdown",
      "metadata": {
        "id": "D_HHzFTOc-Qr"
      },
      "source": [
        "## 4. Q-Learning\n",
        "Другим распространенным подходом к поиску оптимальной политики в среде с использованием RL является Q-обучение."
      ]
    },
    {
      "cell_type": "markdown",
      "metadata": {
        "id": "lF1nOZrUSzhE"
      },
      "source": [
        "### Функция значения состояния-действия\n",
        "В Q-обучении агент изучает функцию, которая аппроксимирует **значение** пар состояние-действие. Под *значением* мы подразумеваем отдачу, которую вы ожидаете получить, если начнете в определенном состоянии $s_t$, выполните определенное действие $a_t$, а затем будете действовать в соответствии с определенной политикой $\\pi$ навсегда. Функция значения состояния-действия политики $\\pi$ задается как\n",
        "\n",
        "$Q_\\pi(s,a)=\\mathrm{E}_{\\tau\\sim\\pi}\\left[R(\\tau) \\mid s_0=s,\\ a_t=a\\right]$.\n",
        "\n",
        "Мы говорим, что функция значения $Q_\\pi(s,a)$ является **оптимальной** функцией значения, если политика $\\pi$ является оптимальной политикой. Обозначим функцию оптимального значения следующим образом:\n",
        "\n",
        "$Q_\\ast(s,a)=\\max \\limits_\\pi \\ \\mathrm{E}_{\\tau\\sim\\pi}\\left[R(\\tau) \\mid s_0=s,\\ a_0=a\\right]$\n",
        "\n",
        "Существует важная связь между оптимальным действием $a_\\ast$ в состоянии $s$ и оптимальной функцией значения состояния-действия $Q_\\ast$. А именно, оптимальное действие $a_\\ast$ в состоянии $s$ равно действию, которое максимизирует оптимальную функцию значения состояния-действия. Эта связь естественным образом индуцирует оптимальную политику:\n",
        "\n",
        "$\\pi_\\ast(s)=\\arg \\max \\limits_a\\ Q_\\ast(s, a)$"
      ]
    },
    {
      "cell_type": "markdown",
      "metadata": {
        "id": "H2x2tqvZSihz"
      },
      "source": [
        "### Greedy action selection (Жадный выбор действия)\n",
        "\n",
        "**Упражнение 10:** Давайте реализуем функцию, которая, учитывая вектор Q-значений, возвращает действие с наибольшим Q-значением (т. е. жадное действие).\n",
        "\n",
        "**Useful methods:**\n",
        "*   `jax.numpy.argmax` ([docs](https://jax.readthedocs.io/en/latest/_autosummary/jax.numpy.argmax.html))"
      ]
    },
    {
      "cell_type": "code",
      "execution_count": 47,
      "metadata": {
        "id": "Nn9P1YdzTIDU"
      },
      "outputs": [],
      "source": [
        "# Implement a function takes q-values as input and returns the greedy_action\n",
        "def select_greedy_action(q_values):\n",
        "\n",
        "  # YOUR CODE\n",
        "  action = jax.numpy.argmax(q_values)\n",
        "  # END YOUR CODE\n",
        "\n",
        "  return action"
      ]
    },
    {
      "cell_type": "code",
      "execution_count": 48,
      "metadata": {
        "id": "ZBzLr_G7QKXR",
        "colab": {
          "base_uri": "https://localhost:8080/"
        },
        "outputId": "36997d5a-0169-4d3d-e5dc-3b03edbd66a7"
      },
      "outputs": [
        {
          "output_type": "stream",
          "name": "stdout",
          "text": [
            "Looks good.\n"
          ]
        }
      ],
      "source": [
        "# @title Проверка упр 10 (run me) {display-mode: \"form\"}\n",
        "\n",
        "try:\n",
        "  q_values = jnp.array([1,1,3,4])\n",
        "  action = select_greedy_action(q_values)\n",
        "\n",
        "  if action != 3:\n",
        "    print(\"Incorrect answer, your greedy action selector looks wrong\")\n",
        "  else:\n",
        "    print(\"Looks good.\")\n",
        "except Exception as e:\n",
        "  print(\"An Error Occured: {}\".format(e))\n"
      ]
    },
    {
      "cell_type": "markdown",
      "metadata": {
        "id": "PFQUlqZ4ZyLp"
      },
      "source": [
        "### Q-Network\n",
        "В отличие от подхода с градиентом политики из предыдущего раздела, в Q-обучении и других методах RL на основе значений нам не нужна параметризация для политики, вместо этого мы параметризуем Q-функцию с помощью нейронной сети $Q_\\theta$. Мы получаем политику из Q-сети, всегда выбирая действие с *наибольшим* значением:\n",
        "\n",
        "$\\hat{\\pi}_\\theta(s)=\\arg \\max \\limits_a\\ Q_{\\theta}(s, a)$\n",
        "\n",
        "Как и ранее, мы будем использовать хайку для создания нейронной сети для аппроксимации этой Q-функции. Сеть будет принимать наблюдение в качестве входных данных, а затем выводить Q-значение для каждого из доступных действий. Таким образом, в случае CartPole выход сети будет иметь размер $2$."
      ]
    },
    {
      "cell_type": "code",
      "execution_count": 49,
      "metadata": {
        "id": "9wU1soJYZyLp"
      },
      "outputs": [],
      "source": [
        "def build_network(num_actions: int, layers=[20, 20]) -> hk.Transformed:\n",
        "  \"\"\"Factory for a simple MLP network for approximating Q-values.\"\"\"\n",
        "\n",
        "  def q_network(obs):\n",
        "    network = hk.Sequential(\n",
        "        [hk.Flatten(),\n",
        "         hk.nets.MLP(layers + [num_actions])])\n",
        "    return network(obs)\n",
        "\n",
        "  return hk.without_apply_rng(hk.transform(q_network))"
      ]
    },
    {
      "cell_type": "markdown",
      "metadata": {
        "id": "sUwG-4qTS1zx"
      },
      "source": [
        "Давайте инициализируем нашу Q-сеть и получим начальные параметры."
      ]
    },
    {
      "cell_type": "code",
      "execution_count": 50,
      "metadata": {
        "id": "1uvq5n2cS9lu",
        "colab": {
          "base_uri": "https://localhost:8080/"
        },
        "outputId": "3ddb2c66-89fa-4944-a56c-aad0b64ff688"
      },
      "outputs": [
        {
          "output_type": "stream",
          "name": "stdout",
          "text": [
            "Q-Learning params: dict_keys(['mlp/~/linear_0', 'mlp/~/linear_1', 'mlp/~/linear_2'])\n"
          ]
        }
      ],
      "source": [
        "# Initialise Q-network\n",
        "Q_NETWORK = build_network(num_actions=num_actions, layers=[20, 20]) # two actions\n",
        "\n",
        "dummy_obs = jnp.zeros((1,*obs_shape), jnp.float32) # a dummy observation like the one in CartPole\n",
        "\n",
        "random_key = jax.random.PRNGKey(42) # random key\n",
        "Q_NETWORK_PARAMS = Q_NETWORK.init(random_key, dummy_obs) # Get initial params\n",
        "\n",
        "print(\"Q-Learning params:\", Q_NETWORK_PARAMS.keys())"
      ]
    },
    {
      "cell_type": "markdown",
      "metadata": {
        "id": "iqCUeZfhEfyP"
      },
      "source": [
        "Прежде чем мы реализуем функцию потерь, необходимую для обучения нашей Q-сети, давайте сначала обсудим интуицию, стоящую за ней."
      ]
    },
    {
      "cell_type": "markdown",
      "metadata": {
        "id": "vbLig3uSZyLp"
      },
      "source": [
        "### The Bellman Equations (Уравнения Беллмана)\n",
        "Функция значения может быть записана рекурсивно как:\n",
        "\n",
        "$Q_{\\pi}(s, a) =\\underset{s^{\\prime} \\sim P}{\\mathrm{E}}\\left[r(s, a)+ \\underset{a^{\\prime} \\sim \\pi}{\\mathrm{E}}\\left[Q_{\\pi}\\left(s^{\\prime}, a^{\\prime}\\right)\\right]\\right]$,\n",
        "\n",
        "где $s' \\sim P$ — это сокращение для обозначения того, что следующее состояние $s'$ выбирается из функции перехода среды $P(s'\\mid s,a)$. Интуитивно это уравнение говорит, что ценность действия $a$, которое вы предприняли в состоянии $s$, равна вознаграждению $r$, которое вы ожидаете получить, плюс ценность, которую вы ожидаете получить в следующем состоянии $s`$, в котором вы окажетесь, при условии, что вы выберете свое следующее действие $a`$ с политикой $\\pi$. Уравнение Беллмана для оптимальной функции ценности выглядит так:\n",
        "\n",
        "$Q_{*}(s, a) =\\underset{s^{\\prime} \\sim P}{\\mathrm{E}}\\left[r(s, a)+\\ \\underset{a^{\\prime}}{\\max}\\ Q_{*}(s^{\\prime}, a^{\\prime})\\right]$\n",
        "\n",
        "Обратите внимание, что вместо выбора вашего следующего действия $a`$ с политикой $\\pi$ мы выбираем действие с наибольшим значением Q.\n",
        "\n",
        "Более подробное обсуждение уравнений Беллмана можно найти на сайте [OpenAI Spinning Up](https://spinningup.openai.com/en/latest/spinningup/rl_intro.html)."
      ]
    },
    {
      "cell_type": "markdown",
      "metadata": {
        "id": "DsOJi5G8ZyLp"
      },
      "source": [
        "### The Bellman Backup (Резервное копирование Беллмана)\n",
        "\n",
        "Чтобы научиться аппроксимировать оптимальную функцию Q-значения, мы можем использовать правую часть уравнения Беллмана в качестве правила обновления. Другими словами, предположим, что у нас есть Q-сеть $Q_\\theta$, аппроксимированная с использованием параметров $\\theta$, тогда мы можем итеративно обновлять параметры таким образом, что\n",
        "\n",
        "$Q_\\theta(s,a)\\leftarrow r(s, a) + \\underset{a'}{\\max}\\ Q_\\theta(s', a')$.\n",
        "\n",
        "Интуитивно это означает, что аппроксимация Q-значения действия $a$ в состоянии $s$ должна быть обновлена ​​таким образом, чтобы она была ближе к равной вознаграждению, полученному от среды $r(s, a)$, плюс значение наилучшего возможного действия в следующем состоянии $s'$. Мы можем выполнить эту оптимизацию, минимизируя разницу между левой и правой частью относительно параметров $\\theta$, используя градиентный спуск. Мы можем измерить разницу между двумя значениями, используя [квадратичную ошибку](https://en.wikipedia.org/wiki/Mean_squared_error#Loss_function).\n",
        "\n",
        "**Упражнение 11:** Реализуйте функцию квадратичной ошибки.\n",
        "\n",
        "**Полезные функции**\n",
        "* `jax.numpy.square` ([docs](https://jax.readthedocs.io/en/latest/_autosummary/jax.numpy.square.html))"
      ]
    },
    {
      "cell_type": "code",
      "execution_count": 51,
      "metadata": {
        "id": "PTto__ohZyLp"
      },
      "outputs": [],
      "source": [
        "def compute_squared_error(pred, target):\n",
        "  # YOUR CODE\n",
        "  squared_error = jax.numpy.square(target - pred)\n",
        "  # END YOUR CODE\n",
        "\n",
        "  return squared_error"
      ]
    },
    {
      "cell_type": "code",
      "execution_count": 52,
      "metadata": {
        "id": "wGhX8XTFVPVU",
        "colab": {
          "base_uri": "https://localhost:8080/"
        },
        "outputId": "f7e966b9-caa7-42ec-c7ad-bfffac8c9e26"
      },
      "outputs": [
        {
          "output_type": "stream",
          "name": "stdout",
          "text": [
            "Looks good.\n"
          ]
        }
      ],
      "source": [
        "#@title Проверка упр 11 {display-mode: \"form\"}\n",
        "\n",
        "try:\n",
        "  result = compute_squared_error(1, 4)\n",
        "\n",
        "  if result != 9:\n",
        "    print(\"Your implementation looks wrong.\")\n",
        "  else:\n",
        "    print(\"Looks good.\")\n",
        "except Exception as e:\n",
        "  print(\"An Error Occured: {}\".format(e))"
      ]
    },
    {
      "cell_type": "markdown",
      "metadata": {
        "id": "ycpZVkgdZyLp"
      },
      "source": [
        "**Упражнение 12:** Реализуйте функцию, которая вычисляет **цель Беллмана** (правая часть уравнения Беллмана). Если эпизод находится на последнем временном шаге (т. е. done==1.0), то цель Беллмана должна быть равна награде, без дополнительного значения в конце.\n",
        "\n",
        "**Полезные функции**\n",
        "* `jax.numpy.max` ([docs](https://jax.readthedocs.io/en/latest/_autosummary/jax.numpy.max.html))"
      ]
    },
    {
      "cell_type": "code",
      "execution_count": 60,
      "metadata": {
        "id": "961_OllWZyLp"
      },
      "outputs": [],
      "source": [
        "# Bellman target\n",
        "def compute_bellman_target(reward, done, next_q_values):\n",
        "  \"\"\"A function to compute the bellman target.\n",
        "\n",
        "  Args:\n",
        "      reward: a scalar reward.\n",
        "      done: a scalar of value either 1.0 or 0.0, indicating if the transition is a terminal one.\n",
        "      next_q_values: a vector of q_values for the next state. One for each action.\n",
        "  Returns:\n",
        "      A scalar equal to the bellman target.\n",
        "\n",
        "  \"\"\"\n",
        "  # YOUR CODE\n",
        "  bellman_target = jax.lax.select(\n",
        "      done == 1.0,\n",
        "      jnp.array(reward, \"float32\"),\n",
        "      reward + jax.numpy.max(next_q_values)\n",
        "  )\n",
        "\n",
        "  '''\n",
        "  if done==1 :\n",
        "    bellman_target = reward\n",
        "  else:\n",
        "    bellman_target = reward + jax.numpy.max(next_q_values)\n",
        "  '''\n",
        "\n",
        "  # END YOUR CODE\n",
        "\n",
        "  return bellman_target"
      ]
    },
    {
      "cell_type": "code",
      "execution_count": 61,
      "metadata": {
        "id": "E5RAhegOWAkC",
        "colab": {
          "base_uri": "https://localhost:8080/"
        },
        "outputId": "22113db4-d4da-4ca8-b8d3-3ee8301ee037"
      },
      "outputs": [
        {
          "output_type": "stream",
          "name": "stdout",
          "text": [
            "Looks good.\n"
          ]
        }
      ],
      "source": [
        "#@title Проверка упр 12 {display-mode: \"form\"}\n",
        "\n",
        "try:\n",
        "  # not done\n",
        "  result1 = compute_bellman_target(1, 0.0, np.array([3,2], \"float32\"))\n",
        "\n",
        "  # done\n",
        "  result2 = compute_bellman_target(1, 1.0, np.array([3,2], \"float32\"))\n",
        "\n",
        "  if result1 != 4 or result2 != 1:\n",
        "    print(\"Your implementation looks wrong.\")\n",
        "  else:\n",
        "    print(\"Looks good.\")\n",
        "except Exception as e:\n",
        "  print(\"An Error Occured: {}\".format(e))"
      ]
    },
    {
      "cell_type": "markdown",
      "metadata": {
        "id": "8sIjrHSJZyLq"
      },
      "source": [
        "Теперь мы можем объединить эти две функции, чтобы вычислить потерю для Q-обучения. Потери Q-обучения равны квадрату разницы между прогнозируемым значением Q действия и его соответствующей целью Беллмана.\n",
        "\n",
        "**Упражнение 13:** Реализуйте функцию потери Q-обучения."
      ]
    },
    {
      "cell_type": "code",
      "execution_count": 62,
      "metadata": {
        "id": "LJY_kpFcZyLq"
      },
      "outputs": [],
      "source": [
        "def q_learning_loss(q_values, action, reward, done, next_q_values):\n",
        "    \"\"\"Implementation of the Q-learning loss.T\n",
        "\n",
        "    Args:\n",
        "        q_values: a vector of Q-values, one for each action.\n",
        "        action: an integer, giving the action that was chosen. q_values[action] is the value of the chose action.\n",
        "        done: is a scalar that indicates if this is a terminal transition.\n",
        "        next_q_values: a vector of Q-values in the next state.\n",
        "    Returns:\n",
        "        The squared difference between the q_value of the chosen action and the bellman target.\n",
        "    \"\"\"\n",
        "    # YOUR CODE\n",
        "    chosen_action_q_value = q_values[action] # q_value of action, use array indexing\n",
        "    bellman_target = compute_bellman_target(reward, done, next_q_values)\n",
        "    squared_error = compute_squared_error(chosen_action_q_value, bellman_target)\n",
        "    # END YOUR CODE\n",
        "\n",
        "    return squared_error"
      ]
    },
    {
      "cell_type": "code",
      "execution_count": 63,
      "metadata": {
        "id": "1aZRn1qaWx2M",
        "colab": {
          "base_uri": "https://localhost:8080/"
        },
        "outputId": "cd4b3f3c-7ad2-4106-d7b6-0bcd54a39c68"
      },
      "outputs": [
        {
          "output_type": "stream",
          "name": "stdout",
          "text": [
            "Looks good.\n"
          ]
        }
      ],
      "source": [
        "#@title Проверка упр 13 {display-mode: \"form\"}\n",
        "\n",
        "try:\n",
        "  result = q_learning_loss(np.array([3,2], \"float32\"), 1, 2, 0.0, np.array([3,2], \"float32\"))\n",
        "\n",
        "  if result != 9.0:\n",
        "    print(\"Your implementation looks wrong.\")\n",
        "  else:\n",
        "    print(\"Looks good.\")\n",
        "except Exception as e:\n",
        "  print(\"An Error Occured: {}\".format(e))"
      ]
    },
    {
      "cell_type": "markdown",
      "metadata": {
        "id": "b4YnSUfJZyLq"
      },
      "source": [
        "### Target Q-network (Целевая Q-сеть)\n",
        "Обратите внимание: когда мы вычисляем цель Беллмана, мы используем нашу Q-сеть $Q_\\theta$ для вычисления значения для следующего состояния $s_t$. По сути, мы используем наше последнее приближение Q-функции для вычисления цели нашего следующего приближения. Использование приближения для вычисления цели для вашего следующего приближения называется самозагрузкой. К сожалению, если мы наивно делаем такую ​​самозагрузку, это может сделать обучение нейронной сети очень нестабильным. Чтобы смягчить это, мы можем вместо этого использовать другой набор параметров $\\hat{\\theta}$ для вычисления значений в состоянии $s_{t+1}$. Мы будем сохранять параметры $\\hat{\\theta}$ фиксированными и только периодически обновлять их, чтобы они были равны последним онлайн-параметрам $\\theta$ каждые пару шагов обучения *(скажем, 100)*. Это позволяет сохранять фиксированные цели Беллмана для пары шагов обучения, чтобы помочь снизить нестабильность из-за самозагрузки.\n",
        "\n",
        "Нам нужно будет отслеживать последние (онлайн) параметры, а также параметры целевых сетей. Давайте создадим `NamedTuple` для хранения этих двух значений. Нам также нужно будет отслеживать количество шагов обучения, которые мы сделали, чтобы знать, когда обновлять целевую сеть. Давайте сохраним `count` шагов обучения в `learn_state`."
      ]
    },
    {
      "cell_type": "code",
      "execution_count": 64,
      "metadata": {
        "id": "DvZqUKmq6L7k"
      },
      "outputs": [],
      "source": [
        "# Store online and target parameters\n",
        "QLearnParams = collections.namedtuple(\"Params\", [\"online\", \"target\"])\n",
        "\n",
        "# Q-learn-state\n",
        "QLearnState = collections.namedtuple(\"LearnerState\", [\"count\", \"optim_state\"])"
      ]
    },
    {
      "cell_type": "markdown",
      "metadata": {
        "id": "CJWH2_kNZsau"
      },
      "source": [
        "Мы снова будем использовать Optax для оптимизации нашей нейронной сети в JAX. Мы сохраняем состояние оптимизатора в `learn_state` выше. Давайте теперь создадим экземпляр оптимизатора и добавим начальные параметры Q-сети в объект `QLearnParams`."
      ]
    },
    {
      "cell_type": "code",
      "execution_count": 65,
      "metadata": {
        "id": "HwqKTN6BaAXE"
      },
      "outputs": [],
      "source": [
        "# Initialise Q-network optimizer\n",
        "Q_LEARN_OPTIMIZER = optax.adam(3e-4) # learning rate\n",
        "\n",
        "Q_LEARN_OPTIM_STATE = Q_LEARN_OPTIMIZER.init(Q_NETWORK_PARAMS) # initial optim state\n",
        "\n",
        "# Create Learn State\n",
        "Q_LEARNING_LEARN_STATE = QLearnState(0, Q_LEARN_OPTIM_STATE) # count set to zero initially\n",
        "\n",
        "# Add initial Q-network weights to QLearnParams object\n",
        "Q_LEARNING_PARAMS = QLearnParams(online=Q_NETWORK_PARAMS, target=Q_NETWORK_PARAMS) # target equal to online"
      ]
    },
    {
      "cell_type": "markdown",
      "metadata": {
        "id": "xj89M8LgZlFe"
      },
      "source": [
        "Теперь мы можем реализовать простую функцию, которая обновляет параметры целевых сетей, чтобы они соответствовали последним онлайн-параметрам каждые 100 шагов обучения."
      ]
    },
    {
      "cell_type": "code",
      "execution_count": 66,
      "metadata": {
        "id": "SKrg_3rO6cCL"
      },
      "outputs": [],
      "source": [
        "def update_target_params(learn_state, online_weights, target_weights):\n",
        "  \"\"\"A function to update target params every 100 training steps\"\"\"\n",
        "\n",
        "  target = jax.lax.cond(\n",
        "      jax.numpy.mod(learn_state.count, 100) == 0,\n",
        "      lambda x, y: x,\n",
        "      lambda x, y: y,\n",
        "      online_weights,\n",
        "      target_weights\n",
        "  )\n",
        "\n",
        "  params = QLearnParams(online_weights, target)\n",
        "\n",
        "  return params"
      ]
    },
    {
      "cell_type": "markdown",
      "metadata": {
        "id": "KoiaYSo9ZyLq"
      },
      "source": [
        "### Q-learning loss (Функция потери Q-обучения)\n",
        "Теперь у нас есть все необходимое для реализации функции `q_learn`, которая принимает некоторую партию переходов и выполняет шаг Q-обучения для обновления параметров сети. Но сначала мы используем `jax.vmap` для изменения функции `q_learning_loss` так, чтобы она принимала партии переходов. Кроме того, мы вычислим Q-значения, передавая наблюдения через `Q_NETWORK`, и целевые Q-значения, используя целевые параметры `Q_NETWORK`."
      ]
    },
    {
      "cell_type": "code",
      "execution_count": 67,
      "metadata": {
        "id": "hnrsGppWZyLq"
      },
      "outputs": [],
      "source": [
        "def batched_q_learning_loss(online_params, target_params, obs, actions, rewards, next_obs, dones):\n",
        "    q_values = Q_NETWORK.apply(online_params, obs) # use the online parameters\n",
        "    next_q_values = Q_NETWORK.apply(target_params, next_obs) # use the target parameters\n",
        "    squared_error = jax.vmap(q_learning_loss)(q_values, actions, rewards, dones, next_q_values) # vmap q_learning_loss\n",
        "    mean_squared_error = jnp.mean(squared_error) # mean squared error over batch\n",
        "    return mean_squared_error"
      ]
    },
    {
      "cell_type": "markdown",
      "metadata": {
        "id": "CU8vo9ZebnEa"
      },
      "source": [
        "Теперь мы можем создать функцию `q_learn`, которая вычисляет градиент `batched_q_learning_loss`, а затем использует оптимизатор Optax для обновления весов сети, а затем, наконец (возможно), обновляет целевые параметры."
      ]
    },
    {
      "cell_type": "code",
      "execution_count": 68,
      "metadata": {
        "id": "6BYoX2W_ZyLr"
      },
      "outputs": [],
      "source": [
        "def q_learn(rng, params, learner_state, memory):\n",
        "  # Compute gradients\n",
        "  grad_loss = jax.grad(batched_q_learning_loss)(params.online, params.target, memory.obs,\n",
        "                                          memory.action, memory.reward,\n",
        "                                          memory.next_obs, memory.done,\n",
        "                                          ) # jax.grad\n",
        "\n",
        "  # Get updates\n",
        "  updates, opt_state = Q_LEARN_OPTIMIZER.update(grad_loss, learner_state.optim_state)\n",
        "\n",
        "  # Apply them\n",
        "  new_weights = optax.apply_updates(params.online, updates)\n",
        "\n",
        "  # Maybe update target network\n",
        "  params = update_target_params(learner_state, new_weights, params.target)\n",
        "\n",
        "  # Increment learner step counter\n",
        "  learner_state = QLearnState(learner_state.count + 1, opt_state)\n",
        "\n",
        "  return params, learner_state"
      ]
    },
    {
      "cell_type": "markdown",
      "metadata": {
        "id": "VpZsKHssZyLq"
      },
      "source": [
        "### Replay Buffer (Буфер воспроизведения)\n",
        "Для Q-обучения нам понадобится память агента, которая хранит целые переходы: `obs`, `action`, `reward`, `next_obs`, `done`. Когда мы извлекаем переходы из памяти, они должны выбираться случайным образом из всех переходов, собранных до сих пор. В RL мы часто называем такой модуль **буфером воспроизведения**.\n",
        "\n",
        "Одним из преимуществ использования такого буфера воспроизведения является то, что опыт можно повторно использовать несколько раз для обучения, в отличие от алгоритма градиента политики REINFORCE, где мы отбрасывали воспоминания после их использования для обучения."
      ]
    },
    {
      "cell_type": "code",
      "execution_count": 69,
      "metadata": {
        "id": "8tv5dUH6ZyLr"
      },
      "outputs": [],
      "source": [
        "class TransitionMemory(object):\n",
        "  \"\"\"A simple Python replay buffer.\"\"\"\n",
        "\n",
        "  def __init__(self, max_size=10_000, batch_size=256):\n",
        "    self.batch_size = batch_size\n",
        "    self.buffer = collections.deque(maxlen=max_size)\n",
        "\n",
        "  def push(self, transition):\n",
        "\n",
        "    # add transition to the replay buffer\n",
        "    self.buffer.append(\n",
        "        (transition.obs, transition.action, transition.reward,\n",
        "          transition.next_obs, transition.done)\n",
        "    )\n",
        "\n",
        "\n",
        "  def is_ready(self):\n",
        "    return self.batch_size <= len(self.buffer)\n",
        "\n",
        "  def sample(self):\n",
        "    # Randomly sample a batch of transitions from the buffer\n",
        "    random_replay_sample = random.sample(self.buffer, self.batch_size)\n",
        "\n",
        "    # Batch the transitions together\n",
        "    obs_batch, action_batch, reward_batch, next_obs_batch, done_batch = zip(*random_replay_sample)\n",
        "\n",
        "    return Transition(\n",
        "        np.stack(obs_batch).astype(\"float32\"),\n",
        "        np.asarray(action_batch).astype(\"int32\"),\n",
        "        np.asarray(reward_batch).astype(\"float32\"),\n",
        "        np.stack(next_obs_batch).astype(\"float32\"),\n",
        "        np.asarray(done_batch).astype(\"float32\")\n",
        "    )\n",
        "\n",
        "# Instantiate the memory\n",
        "Q_LEARNING_MEMORY = TransitionMemory(max_size=50_000, batch_size=256)"
      ]
    },
    {
      "cell_type": "markdown",
      "metadata": {
        "id": "XbHk03VVUHAV"
      },
      "source": [
        "### Случайное исследование\n",
        "У нас почти есть все, что нужно для функционирующего агента Q-обучения. Но одна проблема заключается в том, что если мы всегда выбираем действие с наивысшим значением Q, то политика агента будет полностью [детерминированной](https://www.quora.com/What-is-the-intuitive-difference-between-a-stochastic-model-and-a-deterministic-model). Это означает, что агент всегда будет выбирать одну и ту же стратегию. Это может представлять проблему, поскольку в начале обучения Q-сеть будет очень неточной (т. е. плохой аппроксимацией истинной Q-функции). Таким образом, агент будет последовательно выбирать неоптимальные действия. Более того, агент никогда не отклонится от своей неоптимальной стратегии и никогда не обнаружит новые, потенциально более полезные действия. В результате Q-сеть остается неточной. В идеале агент должен опробовать много разных стратегий, чтобы он мог наблюдать результаты (вознаграждения) своих действий в разных состояниях и таким образом улучшить приближение Q-функции.\n",
        "\n",
        "Один простой способ гарантировать, что агент опробует много разных действий, — позволить ему периодически выбирать некоторые случайные действия вместо жадного (лучшего) действия все время.\n",
        "\n",
        "**Упражнение 14:** Реализуйте функцию, которая, учитывая количество возможных (дискретных) действий, возвращает случайное действие.\n",
        "\n",
        "**Полезные методы:**\n",
        "\n",
        "*  `jax.random.randint` ([docs](https://jax.readthedocs.io/en/latest/_autosummary/jax.random.randint.html))"
      ]
    },
    {
      "cell_type": "code",
      "execution_count": 70,
      "metadata": {
        "id": "uUKkpMLXUtko"
      },
      "outputs": [],
      "source": [
        "def select_random_action(key, num_actions):\n",
        "\n",
        "    # YOUR CODE\n",
        "    action = jax.random.randint(key,shape=(),minval=0,maxval=num_actions)\n",
        "    # END YOUR CODE\n",
        "\n",
        "    return action"
      ]
    },
    {
      "cell_type": "code",
      "execution_count": 71,
      "metadata": {
        "id": "NO6va6S2Y40E",
        "colab": {
          "base_uri": "https://localhost:8080/"
        },
        "outputId": "114a05b8-24cc-478f-d7df-cfb9209980cb"
      },
      "outputs": [
        {
          "output_type": "stream",
          "name": "stdout",
          "text": [
            "Looks good.\n"
          ]
        }
      ],
      "source": [
        "#@title Проверка упр 14 {display-mode: \"form\"}\n",
        "\n",
        "try:\n",
        "  random_key1 = random_key = jax.random.PRNGKey(6) # random key\n",
        "  random_key2 = random_key = jax.random.PRNGKey(1000) # random key\n",
        "  result1 = select_random_action(random_key1, 2)\n",
        "  result2 = select_random_action(random_key2, 2)\n",
        "\n",
        "  if result1 != 1 or result2 != 0:\n",
        "    print(\"Your implementation looks wrong.\")\n",
        "  else:\n",
        "    print(\"Looks good.\")\n",
        "except:\n",
        "  print(\"Your implementation looks wrong.\")"
      ]
    },
    {
      "cell_type": "markdown",
      "metadata": {
        "id": "8-kKDFT6XU6y"
      },
      "source": [
        "### $\\varepsilon$-greedy action selection (эпсилон жадный выбор действия)\n",
        "В начале обучения, когда точность Q-сети низкая, агенту стоит в основном совершать случайные действия, чтобы он мог узнать, насколько хороши/плохи действия. Однако по мере повышения точности Q-сети агент должен начать совершать меньше случайных действий и вместо этого начать выбирать жадные действия относительно Q-значений. Выбор лучших действий с учетом текущей Q-сети называется **эксплуатацией**. В RL мы часто называем отношение случайных и жадных действий **эпсилоном** $\\varepsilon$. Эпсилон обычно представляет собой десятичное значение в интервале $[0,1]$, где, например, $\\varepsilon=0.4$ означает, что агент выбирает случайное действие в 40% случаев, а жадное действие — в 60% случаев. В RL принято линейно уменьшать значение эпсилон с течением времени, так что агент становится все более жадным по мере повышения точности его Q-сети в процессе обучения.\n",
        "\n",
        "**Упражнение 15:** Реализуйте функцию, которая принимает количество временных шагов в качестве входных данных и возвращает текущее значение эпсилон."
      ]
    },
    {
      "cell_type": "code",
      "execution_count": 72,
      "metadata": {
        "id": "_qejnbCocurG"
      },
      "outputs": [],
      "source": [
        "EPSILON_DECAY_TIMESTEPS = 3000 # decay epsilon over 3000 timesteps\n",
        "EPSILON_MIN = 0.1 # 10% exploration"
      ]
    },
    {
      "cell_type": "code",
      "execution_count": 73,
      "metadata": {
        "id": "5ujSbssCZyLs"
      },
      "outputs": [],
      "source": [
        "def get_epsilon(num_timesteps):\n",
        "  # YOUR CODE\n",
        "  epsilon = (EPSILON_DECAY_TIMESTEPS - num_timesteps)/EPSILON_DECAY_TIMESTEPS # decay epsilon\n",
        "\n",
        "  epsilon = jax.lax.select(\n",
        "      epsilon < EPSILON_MIN,\n",
        "      EPSILON_MIN, # if less than min then set to min\n",
        "      epsilon # else don't change epsilon\n",
        "  )\n",
        "  # END YOUR CODE\n",
        "\n",
        "  return epsilon"
      ]
    },
    {
      "cell_type": "code",
      "execution_count": 74,
      "metadata": {
        "id": "hvu4zA64aUou",
        "colab": {
          "base_uri": "https://localhost:8080/"
        },
        "outputId": "7d8b096e-d430-467c-d930-3882174aa7b4"
      },
      "outputs": [
        {
          "output_type": "stream",
          "name": "stdout",
          "text": [
            "Your function looks correct.\n"
          ]
        }
      ],
      "source": [
        "#@title Проверка упр 15 {display-mode: \"form\"}\n",
        "def check_get_epsilon(get_epsilon):\n",
        "  try:\n",
        "    result1 = get_epsilon(10)\n",
        "    result2 = get_epsilon(5_010)\n",
        "\n",
        "    if result1 != 0.99666667 or result2 != 0.1:\n",
        "      print(\"Your function looks wrong.\")\n",
        "    else:\n",
        "      print(\"Your function looks correct.\")\n",
        "  except:\n",
        "    print(\"Your function looks wrong.\")\n",
        "\n",
        "check_get_epsilon(get_epsilon)\n"
      ]
    },
    {
      "cell_type": "markdown",
      "metadata": {
        "id": "t56oo58TVQ_s"
      },
      "source": [
        "**Упражнение 16:** Теперь давайте объединим эти функции для выполнения эпсилон-жадного выбора действия."
      ]
    },
    {
      "cell_type": "code",
      "execution_count": 75,
      "metadata": {
        "id": "NlQx8K4vKUXj"
      },
      "outputs": [],
      "source": [
        "def select_epsilon_greedy_action(key, q_values, num_timesteps):\n",
        "    num_actions = len(q_values) # number of available actions\n",
        "\n",
        "    # YOUR CODE HERE\n",
        "    epsilon = get_epsilon(num_timesteps) # get epsilon value\n",
        "\n",
        "    # hint: a boolean expression to check if some random number is less than epsilon\n",
        "    should_explore = jax.random.uniform(key) < epsilon\n",
        "\n",
        "    action = jax.lax.select(\n",
        "        should_explore,\n",
        "        select_random_action(key,num_actions), # if should explore\n",
        "        select_greedy_action(q_values) # if should be greedy\n",
        "    )\n",
        "    # END YOUR CODE\n",
        "\n",
        "    return action"
      ]
    },
    {
      "cell_type": "code",
      "execution_count": 76,
      "metadata": {
        "id": "mkVU2a5e7P6b",
        "colab": {
          "base_uri": "https://localhost:8080/"
        },
        "outputId": "0039a42e-7bdc-428a-d63e-af4a4168d895"
      },
      "outputs": [
        {
          "output_type": "stream",
          "name": "stdout",
          "text": [
            "Looks correct!\n"
          ]
        }
      ],
      "source": [
        "#@title Проверка упражнения 16 {display-mode: \"form\"}\n",
        "\n",
        "try:\n",
        "  rng = hk.PRNGSequence(jax.random.PRNGKey(42))\n",
        "  dummy_q_values = jnp.array([0,1], jnp.float32)\n",
        "  num_timesteps = 5010 # very greedy\n",
        "  actions1 = []\n",
        "  for i in range(10):\n",
        "      actions1.append(int(select_epsilon_greedy_action(next(rng), dummy_q_values, num_timesteps)))\n",
        "\n",
        "\n",
        "  num_timesteps = 0 # completly random\n",
        "  actions2 = []\n",
        "  for i in range(10):\n",
        "      actions2.append(int(select_epsilon_greedy_action(next(rng), dummy_q_values, num_timesteps)))\n",
        "\n",
        "  if actions1 != [1, 1, 0, 1, 1, 0, 1, 1, 1, 1] or actions2 != [0, 0, 0, 1, 1, 1, 1, 0, 0, 0]:\n",
        "    print(\"Looks like something might be incorrect!\")\n",
        "  else:\n",
        "    print(\"Looks correct!\")\n",
        "except:\n",
        "  print(\"Looks like something might be incorrect exceppptiopn!\")"
      ]
    },
    {
      "cell_type": "markdown",
      "metadata": {
        "id": "y5W23MnobN9x"
      },
      "source": [
        "### Действие выбора Q-learning\n",
        "\n",
        "Теперь у нас есть все необходимое для создания функции `q_learning_select_action`. Мы будем использовать `actor_state` для хранения счетчика, который отслеживает текущее количество временных шагов. Мы можем использовать счетчик для уменьшения нашего значения `epsilon`."
      ]
    },
    {
      "cell_type": "code",
      "execution_count": 77,
      "metadata": {
        "id": "81TysLc0RjM6"
      },
      "outputs": [],
      "source": [
        "# Actor state stores the current number of timesteps\n",
        "QActorState = collections.namedtuple(\"ActorState\", [\"count\"])\n",
        "\n",
        "def q_learning_select_action(key, params, actor_state, obs, evaluation=False):\n",
        "    obs = jnp.expand_dims(obs, axis=0) # add dummy batch dim\n",
        "    q_values = Q_NETWORK.apply(params.online, obs)[0] # remove batch dim\n",
        "\n",
        "    action = select_epsilon_greedy_action(key, q_values, actor_state.count)\n",
        "    greedy_action = select_greedy_action(q_values)\n",
        "\n",
        "    action = jax.lax.select(\n",
        "        evaluation,\n",
        "        greedy_action,\n",
        "        action\n",
        "    )\n",
        "\n",
        "    next_actor_state = QActorState(actor_state.count + 1) # increment timestep counter\n",
        "\n",
        "    return action, next_actor_state\n",
        "\n",
        "Q_LEARNING_ACTOR_STATE = QActorState(0) # counter set to zero"
      ]
    },
    {
      "cell_type": "markdown",
      "metadata": {
        "id": "z884-1oNRGEr"
      },
      "source": [
        "### Обучение\n",
        "Теперь мы можем собрать все вместе, используя цикл агент-среда. Но сначала давайте объединим функцию выбора действия и функцию обучения для дополнительной скорости."
      ]
    },
    {
      "cell_type": "code",
      "source": [
        "# Jit functions\n",
        "q_learning_select_action_jit = jax.jit(q_learning_select_action)\n",
        "q_learn_jit = jax.jit(q_learn)"
      ],
      "metadata": {
        "id": "tK6nRDQ7OcLY"
      },
      "execution_count": 78,
      "outputs": []
    },
    {
      "cell_type": "code",
      "execution_count": 79,
      "metadata": {
        "id": "xbdHDbd1RjM8",
        "colab": {
          "base_uri": "https://localhost:8080/",
          "height": 680
        },
        "outputId": "e7175b27-25af-4e4d-82af-244d6a8a6aaa"
      },
      "outputs": [
        {
          "output_type": "stream",
          "name": "stdout",
          "text": [
            "Starting training. This may take up to 8 minutes to complete.\n",
            "Episode: 0\tEpisode Return: 16.0\tAverage Episode Return: 16.0\tEvaluator Episode Return: 9.75\n",
            "Episode: 100\tEpisode Return: 11.0\tAverage Episode Return: 12.9\tEvaluator Episode Return: 9.375\n",
            "Episode: 200\tEpisode Return: 10.0\tAverage Episode Return: 9.85\tEvaluator Episode Return: 9.5\n",
            "Episode: 300\tEpisode Return: 10.0\tAverage Episode Return: 9.85\tEvaluator Episode Return: 9.25\n",
            "Episode: 400\tEpisode Return: 11.0\tAverage Episode Return: 9.95\tEvaluator Episode Return: 9.5\n",
            "Episode: 500\tEpisode Return: 28.0\tAverage Episode Return: 44.6\tEvaluator Episode Return: 54.375\n",
            "Episode: 600\tEpisode Return: 82.0\tAverage Episode Return: 95.65\tEvaluator Episode Return: 94.875\n",
            "Episode: 700\tEpisode Return: 53.0\tAverage Episode Return: 91.1\tEvaluator Episode Return: 101.0\n",
            "Episode: 800\tEpisode Return: 62.0\tAverage Episode Return: 78.4\tEvaluator Episode Return: 76.125\n",
            "Episode: 900\tEpisode Return: 43.0\tAverage Episode Return: 86.0\tEvaluator Episode Return: 55.125\n",
            "Episode: 1000\tEpisode Return: 65.0\tAverage Episode Return: 96.6\tEvaluator Episode Return: 74.125\n"
          ]
        },
        {
          "output_type": "display_data",
          "data": {
            "text/plain": [
              "<Figure size 640x480 with 1 Axes>"
            ],
            "image/png": "[encoded data removed]"
          },
          "metadata": {}
        }
      ],
      "source": [
        "# Run environment loop\n",
        "print(\"Starting training. This may take up to 8 minutes to complete.\")\n",
        "episode_returns, evaluator_returns = run_training_loop(\n",
        "                                        env_name,\n",
        "                                        Q_LEARNING_PARAMS,\n",
        "                                        q_learning_select_action_jit,\n",
        "                                        Q_LEARNING_ACTOR_STATE,\n",
        "                                        q_learn_jit,\n",
        "                                        Q_LEARNING_LEARN_STATE,\n",
        "                                        Q_LEARNING_MEMORY,\n",
        "                                        num_episodes=1001,\n",
        "                                        train_every_timestep=True, # do learning after every timestep\n",
        "                                        video_subdir=\"q_learning\"\n",
        "                                    )\n",
        "\n",
        "plt.plot(episode_returns)\n",
        "plt.xlabel(\"Episodes\")\n",
        "plt.ylabel(\"Episode Return\")\n",
        "plt.title(\"Deep Q-Learning\")\n",
        "plt.show()"
      ]
    },
    {
      "cell_type": "markdown",
      "metadata": {
        "id": "2k0-41wbpFDE"
      },
      "source": [
        "На этом этапе, как мы надеемся, приближенная Q-функция сошлась к приемлемой политике балансировки шеста в задаче CartPole."
      ]
    },
    {
      "cell_type": "code",
      "execution_count": 81,
      "metadata": {
        "id": "t4v0ZbB4FQUs",
        "cellView": "form",
        "colab": {
          "base_uri": "https://localhost:8080/",
          "height": 288
        },
        "outputId": "1c169584-2d29-48c6-fd95-4f6bd17e1319"
      },
      "outputs": [
        {
          "output_type": "execute_result",
          "data": {
            "text/plain": [
              "<IPython.core.display.HTML object>"
            ],
            "text/html": [
              "\n",
              "<video width=400 controls>\n",
              "      <source src=\"data:video/mp4;base64,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\" type=\"video/mp4\">\n",
              "</video>\n"
            ]
          },
          "metadata": {},
          "execution_count": 81
        }
      ],
      "source": [
        "#@title Визуализация политики\n",
        "#@markdown Выберите номер эпизода, кратный 100 и меньший или равный 1000, и **запустите эту ячейку**.\n",
        "episode_number = 1000 #@param {type:\"number\"}\n",
        "\n",
        "assert (episode_number % 100) == 0, \"Episode number must be a multiple of 100 since we only record every 100th episode.\"\n",
        "assert episode_number < 1001, \"Episode number must be less than or equal to 1000\"\n",
        "\n",
        "\n",
        "eval_episode_number = int(episode_number / 100 * 8)\n",
        "video_path = f\"./video/q_learning/eval/rl-video-episode-{eval_episode_number}.mp4\"\n",
        "\n",
        "mp4 = open(video_path,'rb').read()\n",
        "data_url = \"data:video/mp4;base64,\" + b64encode(mp4).decode()\n",
        "HTML(\"\"\"\n",
        "<video width=400 controls>\n",
        "      <source src=\"%s\" type=\"video/mp4\">\n",
        "</video>\n",
        "\"\"\" % data_url)"
      ]
    },
    {
      "cell_type": "markdown",
      "metadata": {
        "id": "fV3YG7QOZD-B"
      },
      "source": [
        "Кроме того, существует множество алгоритмов RL, которые вносят существенные улучшения в REINFORCE и Deep Q-Learning. См. эти ресурсы:\n",
        "* [REINFORCE с базовым уровнем](https://spinningup.openai.com/en/latest/spinningup/rl_intro3.html#baselines-in-policy-gradients)\n",
        "* [Double Deep Q-Network](https://arxiv.org/pdf/1509.06461.pdf)\n",
        "* [Proximal Policy Optimisation (PPO)](https://arxiv.org/pdf/1707.06347.pdf)\n",
        "\n",
        "Если вы ищете более углубленный онлайн-курс по RL, вы можете ознакомиться с этими курсами:\n",
        "* [Reinforcement Learning Foundations on LinkedIn Learning](https://www.linkedin.com/learning/reinforcement-learning-foundations) (создано одним из наших собственных преподавателей, Хаулатом Абдулхакимом)\n",
        "* [Введение в Reinforcement Learning on FreeCodeCamp](https://www.freecodecamp.org/news/an-introduction-to-reinforcement-learning-4339519de419/)\n",
        "* [Специализация обучения с подкреплением на Coursera](https://www.coursera.org/specializations/reinforcement-learning)\n",
        "\n",
        "Наконец, самый влиятельный учебник по обучению с подкреплением доступен бесплатно онлайн:\n",
        "* [Обучение с подкреплением: введение](http://incompleteideas.net/book/the-book-2nd.html) Ричарда С. Саттона и Эндрю Г. Барто\n",
        "\n",
        "\n",
        "**Ссылки:**\n",
        "\n",
        "* [OpenAI Spinning Up](https://spinningup.openai.com/en/latest/)\n",
        "* [Deep Q-Network]()"
      ]
    },
    {
      "cell_type": "code",
      "source": [],
      "metadata": {
        "id": "6V47Vd_i3qk7"
      },
      "execution_count": null,
      "outputs": []
    }
  ],
  "metadata": {
    "colab": {
      "provenance": []
    },
    "kernelspec": {
      "display_name": "Python 3",
      "name": "python3"
    },
    "language_info": {
      "codemirror_mode": {
        "name": "ipython",
        "version": 3
      },
      "file_extension": ".py",
      "mimetype": "text/x-python",
      "name": "python",
      "nbconvert_exporter": "python",
      "pygments_lexer": "ipython3",
      "version": "3.8.13"
    },
    "vscode": {
      "interpreter": {
        "hash": "0f35138c66f99be0fd7a1210bb4aa94a6fbaa5f29d51ad43aec0e0ea0ff050f0"
      }
    }
  },
  "nbformat": 4,
  "nbformat_minor": 0
}